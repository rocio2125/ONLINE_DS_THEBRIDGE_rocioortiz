{
 "cells": [
  {
   "cell_type": "markdown",
   "metadata": {
    "colab_type": "text",
    "id": "view-in-github"
   },
   "source": [
    "<a href=\"https://colab.research.google.com/github/rocio2125/ONLINE_DS_THEBRIDGE_rocioortiz/blob/main/Parte_5_Ejercicio_pr%C3%A1ctico_DS_01_02_01_N13.ipynb\" target=\"_parent\"><img src=\"https://colab.research.google.com/assets/colab-badge.svg\" alt=\"Open In Colab\"/></a>"
   ]
  },
  {
   "cell_type": "markdown",
   "metadata": {
    "id": "9l3HMgm6RWxF"
   },
   "source": [
    "![TheBridge_logo_RGB_color.jpg](attachment:TheBridge_logo_RGB_color.jpg)"
   ]
  },
  {
   "cell_type": "markdown",
   "metadata": {
    "id": "RGg9iWpoRWxG"
   },
   "source": [
    "![ejercicios.png](attachment:ejercicios.png)"
   ]
  },
  {
   "cell_type": "markdown",
   "metadata": {
    "id": "AyOlWS2nRWxH"
   },
   "source": [
    "## PRACTICA OBLIGATORIA: COLECCIONES Y FUNCIONES"
   ]
  },
  {
   "cell_type": "markdown",
   "metadata": {
    "id": "6UOgb0KVRWxH"
   },
   "source": [
    "* La práctica obligatoria de esta unidad consiste varios ejercicios de programación libre a completar sobre Colecciones y Funciones. Descarga este notebook en tu ordenador y trabaja en local.  \n",
    "* Recuerda que debes subirla a tu repositorio personal antes de la sesión en vivo para que puntúe adecuadamente y puedas participar en dicha sesión.  \n",
    "* Recuerda también que no es necesario que esté perfecta, sólo es necesario que se vea el esfuerzo.\n",
    "* Esta práctica se resolverá en la sesión en vivo correspondiente y la solución se publicará en el repo del curso."
   ]
  },
  {
   "cell_type": "markdown",
   "metadata": {
    "id": "j3yu-tEjRWxH"
   },
   "source": [
    "### Contenidos"
   ]
  },
  {
   "cell_type": "markdown",
   "metadata": {
    "id": "kO-fLH39RWxH"
   },
   "source": [
    "## Ejercicio 1\n",
    "Eleva todos los elementos de la lista al cuadrado\n",
    "> ```ejer_2 = [1,2,3,4,5]```"
   ]
  },
  {
   "cell_type": "code",
   "execution_count": 5,
   "metadata": {
    "id": "ks5l3yi7RWxH"
   },
   "outputs": [
    {
     "name": "stdout",
     "output_type": "stream",
     "text": [
      "[1, 4, 9, 16, 25]\n"
     ]
    }
   ],
   "source": [
    "ejer_2 = [1,2,3,4,5]\n",
    "cuadrados = []\n",
    "for i in ejer_2:\n",
    "    cuadrados.append(i ** 2)\n",
    "print(cuadrados)\n"
   ]
  },
  {
   "cell_type": "markdown",
   "metadata": {
    "id": "kI_Xr5oFRWxI"
   },
   "source": [
    "## Ejercicio 2\n",
    "Haz un programa que detecte todos los duplicados de un elemento en una lista:\n",
    "* Utiliza una variable duplicado para asignarle el valor del elemento del que queremos encontrar todos sus duplicados.\n",
    "* El programa debe devolver todos los índices de los elementos duplicados.\n",
    "* Aplícalo para encontrar los duplicados de \"un\", \"es\" y \"binario\" de:  \n",
    "\n",
    ">```ejer_3 = [\"Un\", \"árbol\", \"binario\", \"es\", \"una\", \"estructura\", \"de\", \"un\", \"tipo\", \"particular\", \"a\", \"veces\", \"no\", \"es\", \"ni\", \"binario\"]```\n"
   ]
  },
  {
   "cell_type": "code",
   "execution_count": 12,
   "metadata": {
    "id": "cLY9WB7YRWxI"
   },
   "outputs": [
    {
     "name": "stdout",
     "output_type": "stream",
     "text": [
      "Los índices del elemento un son: [7]\n",
      "Los índices del elemento es son: [3, 13]\n",
      "Los índices del elemento binario son: [2, 15]\n"
     ]
    }
   ],
   "source": [
    "ejer_3 = [\"Un\", \"árbol\", \"binario\", \"es\", \"una\", \"estructura\", \"de\", \"un\", \"tipo\", \"particular\", \"a\", \"veces\", \"no\", \"es\", \"ni\", \"binario\"]\n",
    "\n",
    "duplicado = \"un\"\n",
    "indices = [\n",
    "    i for i,n in enumerate(ejer_3) if n == duplicado]\n",
    "print(\"Los índices del elemento\",duplicado,\"son:\",indices)\n",
    "\n",
    "duplicado = \"es\"\n",
    "indices = [\n",
    "    i for i,n in enumerate(ejer_3) if n == duplicado]\n",
    "print(\"Los índices del elemento\",duplicado,\"son:\",indices)\n",
    "\n",
    "duplicado = \"binario\"\n",
    "indices = [\n",
    "    i for i,n in enumerate(ejer_3) if n == duplicado]\n",
    "print(\"Los índices del elemento\",duplicado,\"son:\",indices)\n",
    "    "
   ]
  },
  {
   "cell_type": "markdown",
   "metadata": {
    "id": "3WrBd5QaRWxI"
   },
   "source": [
    "## Ejercicio 3\n",
    "1. ¿Cuántas veces se repite el 3 en la siguiente tupla?\n",
    "2. Crea una tupla nueva con los elementos desde la posicion 5 a la 10.\n",
    "3. ¿Cuántos elementos tiene la tupla `ejer_3`?\n",
    "> ```ejer_9 = (3, 20, 3, 47, 19, 3, 29, 45, 67, 78, 90, 3, 3, 5, 2, 4, 7, 9, 4, 2, 4, 3, 3, 4, 6, 7)```"
   ]
  },
  {
   "cell_type": "code",
   "execution_count": 30,
   "metadata": {
    "id": "bkv_R5LYRWxI"
   },
   "outputs": [
    {
     "name": "stdout",
     "output_type": "stream",
     "text": [
      "¿Cuántas veces se repite el número 3? 7\n",
      "Nueva con los elementos desde la posicion 5 a la 10 (3, 29, 45, 67, 78)\n",
      "¿Cuántos elementos tiene la tupla? 26\n"
     ]
    }
   ],
   "source": [
    "ejer_9 = (3, 20, 3, 47, 19, 3, 29, 45, 67, 78, 90, 3, 3, 5, 2, 4, 7, 9, 4, 2, 4, 3, 3, 4, 6, 7)\n",
    "#1\n",
    "contar_3 = ejer_9.count(3)\n",
    "print(\"¿Cuántas veces se repite el número 3?\", contar_3)\n",
    "#2\n",
    "nueva_tupla = ejer_9[5:10]\n",
    "print(\"Nueva con los elementos desde la posicion 5 a la 10\",nueva_tupla)\n",
    "#3\n",
    "print(\"¿Cuántos elementos tiene la tupla?\", len(ejer_9))\n"
   ]
  },
  {
   "cell_type": "markdown",
   "metadata": {
    "id": "6g8Y54AeRWxI"
   },
   "source": [
    "## Ejercicio 4\n",
    "Comprueba si el numero 60 esta en la tupla del ejercicio 3"
   ]
  },
  {
   "cell_type": "code",
   "execution_count": 34,
   "metadata": {
    "id": "F8VTEZonRWxI"
   },
   "outputs": [
    {
     "name": "stdout",
     "output_type": "stream",
     "text": [
      "¿Está 60 en la tupla? False\n"
     ]
    }
   ],
   "source": [
    "ejer_9 = (3, 20, 3, 47, 19, 3, 29, 45, 67, 78, 90, 3, 3, 5, 2, 4, 7, 9, 4, 2, 4, 3, 3, 4, 6, 7)\n",
    "for i in ejer_9:\n",
    "    if i == 60:\n",
    "        condicion = True\n",
    "    else:\n",
    "        condicion = False\n",
    "print(\"¿Está 60 en la tupla?\",condicion)\n"
   ]
  },
  {
   "cell_type": "markdown",
   "metadata": {
    "id": "y0fg-ZA6RWxI"
   },
   "source": [
    "## Ejercicio 5\n",
    "1. Convierte la tupla del ejercicio 3 en una lista\n",
    "2. Convierte la tupla del ejercicio 3 en un set\n",
    "3. Convierte la tupla del ejercicio 3 en un diccionario. Usa también los indices"
   ]
  },
  {
   "cell_type": "code",
   "execution_count": 31,
   "metadata": {
    "id": "_O5hXr01RWxI"
   },
   "outputs": [
    {
     "name": "stdout",
     "output_type": "stream",
     "text": [
      "<class 'list'> [3, 20, 3, 47, 19, 3, 29, 45, 67, 78, 90, 3, 3, 5, 2, 4, 7, 9, 4, 2, 4, 3, 3, 4, 6, 7]\n",
      "<class 'set'> {2, 3, 67, 5, 4, 7, 6, 9, 45, 78, 47, 19, 20, 90, 29}\n",
      "<class 'dict'> {0: 3, 1: 20, 2: 3, 3: 47, 4: 19, 5: 3, 6: 29, 7: 45, 8: 67, 9: 78, 10: 90, 11: 3, 12: 3, 13: 5, 14: 2, 15: 4, 16: 7, 17: 9, 18: 4, 19: 2, 20: 4, 21: 3, 22: 3, 23: 4, 24: 6, 25: 7}\n"
     ]
    }
   ],
   "source": [
    "ejer_9 = (3, 20, 3, 47, 19, 3, 29, 45, 67, 78, 90, 3, 3, 5, 2, 4, 7, 9, 4, 2, 4, 3, 3, 4, 6, 7)\n",
    "\n",
    "#1\n",
    "nueva_lista = list(ejer_9)\n",
    "print(type(nueva_lista),nueva_lista)\n",
    "#2\n",
    "nuevo_set = set(ejer_9)\n",
    "print(type(nuevo_set),nuevo_set)\n",
    "#3\n",
    "indices = tuple(range(0,26))\n",
    "nuevo_dict = dict(zip(indices,ejer_9))\n",
    "\n",
    "print(type(nuevo_dict),nuevo_dict)\n"
   ]
  },
  {
   "cell_type": "markdown",
   "metadata": {
    "id": "eOdWWbxvRWxJ"
   },
   "source": [
    "## Ejercicio 6\n",
    "Multiplica todos los valores del diccionario\n",
    "> ```ejer_6 = {1: 11, 2: 22, 3: 33, 4: 44, 5: 55}```"
   ]
  },
  {
   "cell_type": "code",
   "execution_count": 4,
   "metadata": {
    "id": "KcuByovKRWxJ"
   },
   "outputs": [
    {
     "name": "stdout",
     "output_type": "stream",
     "text": [
      "19326120\n"
     ]
    }
   ],
   "source": [
    "ejer_6 = {1: 11, 2: 22, 3: 33, 4: 44, 5: 55}\n",
    "multiplica = ejer_6[1]*ejer_6[2]*ejer_6[3]*ejer_6[4]*ejer_6[5]\n",
    "print(multiplica)"
   ]
  },
  {
   "cell_type": "markdown",
   "metadata": {
    "id": "W7TUSaKRRWxJ"
   },
   "source": [
    "## Ejercicio 7\n",
    "\n",
    "1. Crea un diccionario que describa un libro, con los siguientes campos o claves: \"titulo\",\"autor\",\"idioma original\",\"año de publicación\".\n",
    "2. Crea un a lista, llamada librería.\n",
    "3. Añade cuatro libros a tu elección a la librería."
   ]
  },
  {
   "cell_type": "code",
   "execution_count": 9,
   "metadata": {
    "id": "d-IMRvxRRWxJ",
    "vscode": {
     "languageId": "plaintext"
    }
   },
   "outputs": [
    {
     "name": "stdout",
     "output_type": "stream",
     "text": [
      "[{'titulo': 'La casa de los espiritus', 'autor': 'Isabel Allende', 'idioma original': 'Español', 'año de publicación': '1982'}]\n"
     ]
    }
   ],
   "source": [
    "#1\n",
    "libro_dict = {\n",
    "    \"titulo\":\"La casa de los espiritus\",\n",
    "    \"autor\":\"Isabel Allende\",\n",
    "    \"idioma original\":\"Español\",\n",
    "    \"año de publicación\":\"1982\"\n",
    "}\n",
    "\n",
    "#2 y 3\n",
    "libreria = []\n",
    "\n",
    "libreria.append(libro_dict)\n",
    "\n",
    "\n",
    "print(libreria)\n",
    "\n"
   ]
  },
  {
   "cell_type": "code",
   "execution_count": 10,
   "metadata": {},
   "outputs": [],
   "source": [
    "libro_dict[\"idioma original\"] = \"esperanto\""
   ]
  },
  {
   "cell_type": "code",
   "execution_count": 11,
   "metadata": {},
   "outputs": [
    {
     "data": {
      "text/plain": [
       "[{'titulo': 'La casa de los espiritus',\n",
       "  'autor': 'Isabel Allende',\n",
       "  'idioma original': 'esperanto',\n",
       "  'año de publicación': '1982'}]"
      ]
     },
     "execution_count": 11,
     "metadata": {},
     "output_type": "execute_result"
    }
   ],
   "source": [
    "libreria"
   ]
  },
  {
   "cell_type": "code",
   "execution_count": 14,
   "metadata": {},
   "outputs": [
    {
     "data": {
      "text/plain": [
       "[{'titulo': 'La casa de los espiritus',\n",
       "  'autor': 'Isabel Allende',\n",
       "  'idioma original': 'catalán',\n",
       "  'año de publicación': '1982'}]"
      ]
     },
     "execution_count": 14,
     "metadata": {},
     "output_type": "execute_result"
    }
   ],
   "source": [
    "libreria[0][\"idioma original\"] = \"catalán\"\n",
    "libreria"
   ]
  },
  {
   "cell_type": "markdown",
   "metadata": {
    "id": "glMoedjYRWxJ"
   },
   "source": [
    "## Ejercicio 8\n",
    "Modifica los valores del idioma de todos los libros del ejercicio anterior para que sea \"esperanto\"\n"
   ]
  },
  {
   "cell_type": "code",
   "execution_count": 6,
   "metadata": {
    "id": "veNdC-uwRWxJ"
   },
   "outputs": [
    {
     "data": {
      "text/plain": [
       "{'titulo': 'La casa de los espiritus',\n",
       " 'autor': 'Isabel Allende',\n",
       " 'idioma original': 'esperanto',\n",
       " 'año de publicación': '1982'}"
      ]
     },
     "execution_count": 6,
     "metadata": {},
     "output_type": "execute_result"
    }
   ],
   "source": [
    "\n",
    "libro_dict[\"idioma original\"] = \"esperanto\"\n",
    "\n",
    "libro_dict\n"
   ]
  },
  {
   "cell_type": "markdown",
   "metadata": {
    "id": "DRCJG04KRWxJ"
   },
   "source": [
    "## Ejercicio 9\n",
    "1. Escribe un programa que dada una variable titulo busque los libros que hay en la librería con ese título. Si no se encuentra debe devolver el mensaje `Ese no lo tengo, ¿mola?`\n",
    "2. Pruena que el programa con uno de tus libros y con otro que no contenga tu librería."
   ]
  },
  {
   "cell_type": "code",
   "execution_count": 45,
   "metadata": {
    "id": "eWHdJi9BRWxJ"
   },
   "outputs": [
    {
     "name": "stdin",
     "output_type": "stream",
     "text": [
      "Introduce un libro: El zorro\n"
     ]
    },
    {
     "name": "stdout",
     "output_type": "stream",
     "text": [
      "Ese no lo tengo, ¿mola?\n"
     ]
    }
   ],
   "source": [
    "libreria = [\"La casa de los espiritus\",\"Harry Potter y la piedra filosofal\",\"La sombra del viento\",\"El mounstruo rosa\"]\n",
    "libro = input(\"Introduce un libro:\")\n",
    "if libro in libreria:\n",
    "    print(\"Si tengo\",libro)\n",
    "else:\n",
    "    print(\"Ese no lo tengo, ¿mola?\")\n",
    "\n",
    "    "
   ]
  },
  {
   "cell_type": "markdown",
   "metadata": {
    "id": "17YOpYuFRWxJ"
   },
   "source": [
    "## Ejercicio 10\n",
    "Convierte el programa del ejercicio 2 en una función al que se le pase el valor a buscar como un argumento posicional"
   ]
  },
  {
   "cell_type": "code",
   "execution_count": 15,
   "metadata": {
    "id": "xbj0LgvnRWxJ"
   },
   "outputs": [
    {
     "name": "stdout",
     "output_type": "stream",
     "text": [
      "' un ' se repite en las posiciones [7]\n",
      "' es ' se repite en las posiciones [3, 13]\n",
      "' binario ' se repite en las posiciones [2, 15]\n"
     ]
    }
   ],
   "source": [
    "ejer_3 = [\"Un\", \"árbol\", \"binario\", \"es\", \"una\", \"estructura\", \"de\", \"un\", \"tipo\", \"particular\", \"a\", \"veces\", \"no\", \"es\", \"ni\", \"binario\"]\n",
    "\n",
    "def duplicado(elemento_duplicado):\n",
    "    posicion = [\n",
    "        i for i,n in enumerate(ejer_3) if n == elemento_duplicado]\n",
    "    return print(\"'\", elemento_duplicado, \"'\", \"se repite en las posiciones\", posicion)\n",
    "\n",
    "duplicado(\"un\")\n",
    "duplicado(\"es\")\n",
    "duplicado(\"binario\")          \n"
   ]
  },
  {
   "cell_type": "markdown",
   "metadata": {
    "id": "xZ-sWJxPRWxJ"
   },
   "source": [
    "## Ejercicio 11\n",
    "Convierte el programa del ejercicio 9 en una función al que se le pasen como argumentos la librería, posicional, y el título, argumento keyword con valor \"ninguno\", por defecto."
   ]
  },
  {
   "cell_type": "code",
   "execution_count": null,
   "metadata": {
    "id": "4-JrsMdNRWxK"
   },
   "outputs": [],
   "source": []
  },
  {
   "cell_type": "markdown",
   "metadata": {
    "id": "FtJir95QRWxK"
   },
   "source": [
    "## Ejercicio 12\n",
    "Solicitar al usuario que ingrese su dirección email. Imprimir un mensaje indicando si la dirección es válida o no, valiéndose de una función para decidirlo. Una dirección se considerará válida si contiene el símbolo \"@\"."
   ]
  },
  {
   "cell_type": "code",
   "execution_count": 21,
   "metadata": {
    "id": "sk852IZ8RWxK"
   },
   "outputs": [
    {
     "name": "stdin",
     "output_type": "stream",
     "text": [
      "Ingresa tu dirección de correo: rocio.ortizg@gmail.com\n"
     ]
    },
    {
     "name": "stdout",
     "output_type": "stream",
     "text": [
      "Correcto\n"
     ]
    }
   ],
   "source": [
    "mail = input(\"Ingresa tu dirección de correo:\")\n",
    "\n",
    "if \"@\" in mail:\n",
    "    print(\"Correcto\")\n",
    "else:\n",
    "    print(\"direccion incorrecta\")\n",
    "    "
   ]
  },
  {
   "cell_type": "markdown",
   "metadata": {
    "id": "Kw1MWBwBRWxK"
   },
   "source": [
    "## Ejercicio 13\n",
    "Escribe una función que compruebe si un DNI es válido, devolviendo `True` en caso afirmativo.  \n",
    "En primer lugar, el DNI debe tener entre 7 y 8 dígitos numéricos.  \n",
    "Para saber si la letra del DNI es correcta puedes utilizar el siguiente fragmento de código:\n",
    ">```Python\n",
    ">DNI= 55555555\n",
    ">palabra='TRWAGMYFPDXBNJZSQVHLCKE'\n",
    ">print('La letra del DNI es: ', palabra[DNI%23])\n",
    ">````\n"
   ]
  },
  {
   "cell_type": "code",
   "execution_count": 70,
   "metadata": {
    "id": "F5Z9rSHqRWxK"
   },
   "outputs": [
    {
     "name": "stdin",
     "output_type": "stream",
     "text": [
      "Ingrese el DNI 1234567A\n"
     ]
    },
    {
     "name": "stdout",
     "output_type": "stream",
     "text": [
      "Número de dígitos correcto: True\n",
      "Letra correcta: False\n",
      "¿Es válido el DNI? False\n"
     ]
    }
   ],
   "source": [
    "DNI = input(\"Ingrese el DNI\")\n",
    "\n",
    "def comprobar_DNI(DNI):\n",
    "    digitos = 0\n",
    "    letra = DNI[-1]\n",
    "    DNI_numeros = int(DNI[:-1])\n",
    "    \n",
    "    for n in DNI:\n",
    "        if n.isdigit():\n",
    "            digitos = digitos +1\n",
    "    if digitos == 7 or digitos == 8:\n",
    "        primera_condicion = True\n",
    "    else:\n",
    "        primera_condicion = False\n",
    "    print(\"Número de dígitos correcto:\",primera_condicion)\n",
    "   \n",
    "    palabra=\"TRWAGMYFPDXBNJZSQVHLCKE\"\n",
    "    letra_comprobacion = palabra[DNI_numeros%23]\n",
    "    if letra == letra_comprobacion:\n",
    "        segunda_condicion = True\n",
    "    else:\n",
    "        segunda_condicion = False\n",
    "    print(\"Letra correcta:\",segunda_condicion)\n",
    "\n",
    "    print(\"¿Es válido el DNI?\",primera_condicion and segunda_condicion)\n",
    "\n",
    "comprobar_DNI(DNI)\n"
   ]
  }
 ],
 "metadata": {
  "colab": {
   "include_colab_link": true,
   "provenance": []
  },
  "kernelspec": {
   "display_name": "Python 3 (ipykernel)",
   "language": "python",
   "name": "python3"
  },
  "language_info": {
   "codemirror_mode": {
    "name": "ipython",
    "version": 3
   },
   "file_extension": ".py",
   "mimetype": "text/x-python",
   "name": "python",
   "nbconvert_exporter": "python",
   "pygments_lexer": "ipython3",
   "version": "3.10.11"
  }
 },
 "nbformat": 4,
 "nbformat_minor": 4
}
