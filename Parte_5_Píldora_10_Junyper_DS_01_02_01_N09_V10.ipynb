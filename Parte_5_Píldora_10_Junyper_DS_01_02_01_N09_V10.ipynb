{
 "cells": [
  {
   "cell_type": "markdown",
   "metadata": {
    "colab_type": "text",
    "id": "view-in-github"
   },
   "source": [
    "<a href=\"https://colab.research.google.com/github/rocio2125/ONLINE_DS_THEBRIDGE_rocioortiz/blob/main/Parte_5_P%C3%ADldora_10_Junyper_DS_01_02_01_N09_V10.ipynb\" target=\"_parent\"><img src=\"https://colab.research.google.com/assets/colab-badge.svg\" alt=\"Open In Colab\"/></a>"
   ]
  },
  {
   "cell_type": "markdown",
   "metadata": {
    "id": "0mWFR4cuwY-w"
   },
   "source": [
    "![TheBridge_Python_v0.png](attachment:TheBridge_Python_v0.png)"
   ]
  },
  {
   "cell_type": "markdown",
   "metadata": {
    "id": "cS8Q8b8YwY-0"
   },
   "source": [
    "##  Argumentos clave-valor"
   ]
  },
  {
   "cell_type": "markdown",
   "metadata": {
    "id": "SNQU33czwY-1"
   },
   "source": [
    "### Contenidos"
   ]
  },
  {
   "cell_type": "markdown",
   "metadata": {
    "id": "ew8OvuMCwY-1"
   },
   "source": [
    "* [Combinar `*args` con `**kwargs`](#Combinar-`*args`-con-`**kwargs`)\n",
    "* [Argumentos keyword](#Argumentos-keyword)\n"
   ]
  },
  {
   "cell_type": "markdown",
   "metadata": {
    "id": "BKLjNY2kwY-2"
   },
   "source": [
    "\n",
    "Para terminar con las diferentes posibilidades que ofrecen los argumentos de las funciones, vamos a tratar los argumentos clave-valor.  \n",
    "\n",
    "Es decir, tenemos también la opción de introducir un diccionario como argumentos, de esta forma, aunque el numero de argumentos sea variable, tendremos un inidicador, la clave, y el valor de cada clave.\n",
    "\n",
    "Se implementa con `**`"
   ]
  },
  {
   "cell_type": "code",
   "execution_count": 2,
   "metadata": {
    "id": "qPEqspL1wY-2"
   },
   "outputs": [
    {
     "name": "stdout",
     "output_type": "stream",
     "text": [
      "<class 'dict'>\n",
      "{'modelo': 'S20', 'marca': 'Samsung', 'camara': '24MPX'}\n"
     ]
    }
   ],
   "source": [
    "def insertar_movil_bd(**clave_valor):\n",
    "    print(type(clave_valor))\n",
    "    print(clave_valor)\n",
    "\n",
    "insertar_movil_bd(modelo = \"S20\", marca = \"Samsung\", camara = \"24MPX\")\n",
    "    "
   ]
  },
  {
   "cell_type": "code",
   "execution_count": 5,
   "metadata": {},
   "outputs": [
    {
     "name": "stdout",
     "output_type": "stream",
     "text": [
      "modelo : S20\n",
      "marca : Samsung\n",
      "camara : 24MPX\n",
      "flip : True\n"
     ]
    }
   ],
   "source": [
    "def insertar_movil_bd(**kwargs):\n",
    "    for clave,valor in kwargs.items():\n",
    "        #insertar(clave,valor)\n",
    "        print(clave,\":\",valor)\n",
    "\n",
    "insertar_movil_bd(modelo = \"S20\", marca = \"Samsung\", camara = \"24MPX\", flip = True)\n",
    "    "
   ]
  },
  {
   "cell_type": "markdown",
   "metadata": {
    "id": "Zxv1SlIvwY-3"
   },
   "source": [
    "### Combinar `*args` con `**kwargs`\n",
    "[al indice](#Contenidos)  \n",
    "No hay ningun problema en tener un numero variable de argumentos y también argumentos clave-valor, todo ello en la misma función."
   ]
  },
  {
   "cell_type": "code",
   "execution_count": 11,
   "metadata": {
    "id": "xVixwCgvwY-3"
   },
   "outputs": [
    {
     "name": "stdout",
     "output_type": "stream",
     "text": [
      "<class 'tuple'>\n",
      "Es bueno\n",
      "batería no dura\n",
      "<class 'dict'>\n",
      "marca Samsung\n",
      "modelo S20\n"
     ]
    }
   ],
   "source": [
    "def insertar_movil(*args,**kwargs):\n",
    "    print(type(args))\n",
    "    for i in args:\n",
    "        print(i)\n",
    "    print(type(kwargs))\n",
    "    for clave,valor in kwargs.items():\n",
    "        print(clave,valor)\n",
    "    \n",
    "\n",
    "insertar_movil(\"Es bueno\", \"batería no dura\", marca = \"Samsung\", modelo = \"S20\")"
   ]
  },
  {
   "cell_type": "markdown",
   "metadata": {
    "id": "hERlu9KnwY-3"
   },
   "source": [
    "### Argumentos keyword\n",
    "[al indice](#Contenidos)  \n",
    "Existe otro tipo de argumentos que son los *keyword*. Se caracterizan porque llevan un valor por defecto, y por tanto, si no usamos dicho argumento en la llamada, dentro de la función tomará el valor que hayamos dejado por defecto.\n",
    "\n",
    "Ten en cuenta que estos argumentos se colocan **al final**"
   ]
  },
  {
   "cell_type": "code",
   "execution_count": 14,
   "metadata": {
    "id": "JG2gFn47wY-4"
   },
   "outputs": [
    {
     "data": {
      "text/plain": [
       "12.37"
      ]
     },
     "execution_count": 14,
     "metadata": {},
     "output_type": "execute_result"
    }
   ],
   "source": [
    "round(12.3654, ndigits = 2)"
   ]
  },
  {
   "cell_type": "code",
   "execution_count": 16,
   "metadata": {},
   "outputs": [
    {
     "data": {
      "text/plain": [
       "[4, 5, 5, 6, 8, 12]"
      ]
     },
     "execution_count": 16,
     "metadata": {},
     "output_type": "execute_result"
    }
   ],
   "source": [
    "sorted([12,5,6,8,4,5])"
   ]
  },
  {
   "cell_type": "code",
   "execution_count": 22,
   "metadata": {},
   "outputs": [
    {
     "name": "stdout",
     "output_type": "stream",
     "text": [
      "Pongase en contacto con att cliente\n"
     ]
    }
   ],
   "source": [
    "def pedido_online(pedido, fecha, incidencia = False):\n",
    "    if incidencia == True:\n",
    "        print(\"Pongase en contacto con att cliente\")\n",
    "    else:\n",
    "        print(\"Su pedido\", pedido, \"se entregara el\", fecha)\n",
    "\n",
    "pedido_online(123,\"25/05/25\", True)"
   ]
  },
  {
   "cell_type": "markdown",
   "metadata": {
    "id": "lfADrbP0wY-4"
   },
   "source": [
    "<table align=\"left\">\n",
    " <tr>\n",
    "     <td style=\"text-align:left\">\n",
    "         <h3>ERRORES con argumentos keyword</h3>\n",
    "         \n",
    " </td></tr>\n",
    "</table>"
   ]
  },
  {
   "cell_type": "code",
   "execution_count": null,
   "metadata": {
    "id": "E4fXQhLbwY-4"
   },
   "outputs": [],
   "source": [
    "def pedido_online(pedido, fecha, incidencia = False)"
   ]
  }
 ],
 "metadata": {
  "colab": {
   "include_colab_link": true,
   "provenance": []
  },
  "kernelspec": {
   "display_name": "Python 3 (ipykernel)",
   "language": "python",
   "name": "python3"
  },
  "language_info": {
   "codemirror_mode": {
    "name": "ipython",
    "version": 3
   },
   "file_extension": ".py",
   "mimetype": "text/x-python",
   "name": "python",
   "nbconvert_exporter": "python",
   "pygments_lexer": "ipython3",
   "version": "3.10.11"
  }
 },
 "nbformat": 4,
 "nbformat_minor": 4
}
