{
  "cells": [
    {
      "cell_type": "markdown",
      "metadata": {
        "id": "view-in-github",
        "colab_type": "text"
      },
      "source": [
        "<a href=\"https://colab.research.google.com/github/rocio2125/ONLINE_DS_THEBRIDGE_rocioortiz/blob/main/Parte_6_P%C3%ADldora_2_Jupyter_DS_01_02_02_N02_V02.ipynb\" target=\"_parent\"><img src=\"https://colab.research.google.com/assets/colab-badge.svg\" alt=\"Open In Colab\"/></a>"
      ]
    },
    {
      "cell_type": "markdown",
      "metadata": {
        "id": "cwfq_8O_Oeoa"
      },
      "source": [
        "![TheBridge_Python_v0.png](attachment:TheBridge_Python_v0.png)"
      ]
    },
    {
      "cell_type": "markdown",
      "metadata": {
        "id": "j-mCNztUOeoc"
      },
      "source": [
        "# Clases y Objetos en Python\n",
        "\n",
        "\n",
        "Como sabes, Python es un lenguaje de programación orientado a objetos. Si recuerdas de la sesión inicial, eso quiere decir que trabaja trabaja con elementos denominados objetos, que vienen definidos por unos templates o plantillas que llamamos clases. Es una manera de expresar en lenguaje máquina cosas de la vida real.\n",
        "\n",
        "Los \"objetos\" de una clase son instancias de esa clase que determina los atributos y métodos de estos. En este notebook vamos a ver con un poco más de detalle el concepto de clase y cómo crear nuestras propias clases.\n"
      ]
    },
    {
      "cell_type": "markdown",
      "metadata": {
        "id": "LjxaJlp_Oeoc"
      },
      "source": [
        "##  Clases\n"
      ]
    },
    {
      "cell_type": "markdown",
      "metadata": {
        "id": "3mfxuXWcOeod"
      },
      "source": [
        "### Contenidos"
      ]
    },
    {
      "cell_type": "markdown",
      "metadata": {
        "id": "XZl2Mzr1Oeoe"
      },
      "source": [
        "* [Clase vs Objeto](#Clase-vs-Objeto)\n",
        "\n"
      ]
    },
    {
      "cell_type": "markdown",
      "metadata": {
        "id": "PYMtA0GwOeoe"
      },
      "source": [
        "\n",
        "Las clases son la manera que tenemos de describir los objetos. Hasta ahora hemos visto clases básicas que vienen incluidas en Python como *int*, *str* o clases algo más complejas como los *dict*. Pero, **¿y si queremos crear nuestros propios objetos?** En los lenguajes orientados a objetos tenemos la posibilidad de definir nuevos objetos que se asemejen más a nuestros casos de uso y hagan la programación más sencilla de desarrollar y entender.\n",
        "\n",
        "**Un número entero es un objeto de la clase *int* que posee unas características diferentes a un texto**, que es de la clase *str*. Por ejemplo, **¿cómo sabemos que un coche es un coche?** ¿qué características tiene? Los coches tienen una marca, una cantidad de caballos, hay unos automáticos, otros no… De esta manera traducimos a lenguaje de maquina, a programación, un concepto que tenemos nosotros muy claro e interiorizado.\n",
        "\n",
        "Hasta ahora, hemos visto varias clases, por ejemplo la clase *str*. Cuando veiamos el tipo de dato, Python imprimía por pantalla `str`. Y al ser `str`, tenía unas propiedades que no tenían otros objetos, como los métodos `upper()` o `lower()`.\n",
        "\n",
        "La sintaxis para crear una clase es:\n",
        "```Python\n",
        "class NombreClase:\n",
        "    # Cosas de la clase\n",
        "```\n",
        "\n",
        "Normalmente para el nombre de la clase se usa *CamelCase*, que quiere decir que se define en minúsculas, sin espacios ni guiones, y jugando con las mayúsculas para diferenciar palabras.\n",
        "\n",
        "Mira cómo es la [clase *built_in* de *String*](https://docs.python.org/3/library/stdtypes.html#str)"
      ]
    },
    {
      "cell_type": "code",
      "execution_count": null,
      "metadata": {
        "id": "HcwipsNxOeof"
      },
      "outputs": [],
      "source": []
    },
    {
      "cell_type": "markdown",
      "metadata": {
        "id": "oFvzdRsrOeog"
      },
      "source": [
        "La sentencia `pass` se usa para forzar el fin de la clase *Coche*. La hemos declarado, pero no lleva nada. Python demanda una definición de la clase y podemos ignorar esa demanda mediante la sentencia `pass`."
      ]
    },
    {
      "cell_type": "code",
      "execution_count": null,
      "metadata": {
        "id": "hOn9dtggOeoh"
      },
      "outputs": [],
      "source": []
    },
    {
      "cell_type": "markdown",
      "metadata": {
        "id": "tJDibAJMOeoh"
      },
      "source": [
        "Bien, coche es de tipo `type`, claro porque **no es un objeto con tal**, sino que es una clase. Cuando creemos coches, estos serán de clase *Coche*, es decir, de tipo *Coche*, por lo que tiene sentido que *Coche* sea de tipo `type`."
      ]
    },
    {
      "cell_type": "markdown",
      "metadata": {
        "id": "wmHaKBfrOeoi"
      },
      "source": [
        "### Clase vs Objeto\n",
        "[al indice](#Contenidos)  \n",
        "\n",
        "**La clase se usa para definir algo**. Al igual que con las funciones. Creamos el esqueleto de lo que será un objeto de esa clase. Por tanto, **una vez tengamos la clase definida, instanciaremos un objeto de esa clase**.  Es como crear el concepto de coche, con todas sus características y funcionalidades. Después, a lo largo del programa, podremos crear objetos de tipo coche, que se ajusten a lo definido en la clase coche. Cada coche tendrá una marca, una potencia, etc…"
      ]
    },
    {
      "cell_type": "code",
      "execution_count": null,
      "metadata": {
        "id": "dihClMLVOeoi"
      },
      "outputs": [],
      "source": []
    },
    {
      "cell_type": "markdown",
      "metadata": {
        "id": "n6v66L5tOeoj"
      },
      "source": [
        "Ahora sí tenemos un objeto de tipo Coche, que se llama `primer_coche`. Cuando imprimimos su tipo, vemos que es de tipo Coche, y cuando lo imprimes el objeto por pantalla, simplemente nos dice su tipo y un identificador.\n",
        "\n",
        "Podremos crear todos los coches que queramos"
      ]
    },
    {
      "cell_type": "code",
      "execution_count": null,
      "metadata": {
        "id": "hpCj8v4mOeoj"
      },
      "outputs": [],
      "source": []
    },
    {
      "cell_type": "markdown",
      "metadata": {
        "id": "-vecgEXtOeoj"
      },
      "source": [
        "De momento todos nuestros coches son iguales, no hemos definido bien la clase, por lo que va a ser difícil diferenciar un coche de otro. Vamos a ver cómo lograr esa diferenciación."
      ]
    },
    {
      "cell_type": "markdown",
      "metadata": {
        "id": "jeyiDAOmOeoj"
      },
      "source": [
        "![dogs.jpg](attachment:dogs.jpg)"
      ]
    },
    {
      "cell_type": "markdown",
      "metadata": {
        "id": "sL5aOp9DOeoj"
      },
      "source": []
    }
  ],
  "metadata": {
    "kernelspec": {
      "display_name": "Python 3 (ipykernel)",
      "language": "python",
      "name": "python3"
    },
    "language_info": {
      "codemirror_mode": {
        "name": "ipython",
        "version": 3
      },
      "file_extension": ".py",
      "mimetype": "text/x-python",
      "name": "python",
      "nbconvert_exporter": "python",
      "pygments_lexer": "ipython3",
      "version": "3.9.7"
    },
    "colab": {
      "provenance": [],
      "include_colab_link": true
    }
  },
  "nbformat": 4,
  "nbformat_minor": 0
}