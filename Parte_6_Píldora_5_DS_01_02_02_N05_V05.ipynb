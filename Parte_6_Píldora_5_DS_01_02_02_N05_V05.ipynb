{
 "cells": [
  {
   "cell_type": "markdown",
   "metadata": {
    "colab_type": "text",
    "id": "view-in-github"
   },
   "source": [
    "<a href=\"https://colab.research.google.com/github/rocio2125/ONLINE_DS_THEBRIDGE_rocioortiz/blob/main/Parte_6_P%C3%ADldora_5_DS_01_02_02_N05_V05.ipynb\" target=\"_parent\"><img src=\"https://colab.research.google.com/assets/colab-badge.svg\" alt=\"Open In Colab\"/></a>"
   ]
  },
  {
   "cell_type": "markdown",
   "metadata": {
    "id": "6Oj_OmATCFJQ"
   },
   "source": [
    "![TheBridge_Python_v0.png](attachment:TheBridge_Python_v0.png)"
   ]
  },
  {
   "cell_type": "markdown",
   "metadata": {
    "id": "AUk_h9_hCFJS"
   },
   "source": [
    "##  Métodos\n"
   ]
  },
  {
   "cell_type": "markdown",
   "metadata": {
    "id": "FDlj7uMeCFJS"
   },
   "source": [
    "### Contenidos\n"
   ]
  },
  {
   "cell_type": "markdown",
   "metadata": {
    "id": "EhVUN4LkCFJT"
   },
   "source": [
    "* [Introducción  ](#Introducción--)\n",
    "\n"
   ]
  },
  {
   "cell_type": "markdown",
   "metadata": {
    "id": "fb0ub0x3CFJT"
   },
   "source": [
    "### Introducción  \n",
    "[al indice](#Contenidos)  \n",
    "\n",
    "Son funciones que podemos definir dentro de las clases. Estas funciones cambiarán el estado de algún atributo o realizarán cálculos que nos sirvan de output. Un ejemplo sencillo puede ser, un método de la clase coche que saque la potencia en kilovatios, en vez de en caballos. O si tiene un estado de mantenimiento (ITV pasada o no), que modifique ese estado.\n",
    "\n",
    "El constructor es un tipo de método. La diferencia con el resto de métodos radica en su nombre, `__init__`. La sintaxis para definir los métodos es como si fuese una función. Y luego para llamar al método se utiliza `objeto.metodo(argumentos_metodo)`. Esto ya lo hemos usado anteriormente, cuando haciamos un `string.lower()`, simplemente llamábamos al método `lower()`, que no requería de argumentos, de la clase *string*."
   ]
  },
  {
   "cell_type": "code",
   "execution_count": 11,
   "metadata": {
    "id": "ePbMjBDMCFJT"
   },
   "outputs": [],
   "source": [
    "class Coche:\n",
    "    ruedas = 4\n",
    "\n",
    "    def __init__(self, marca_coche, num_puertas = 4):\n",
    "        self.marca = marca_coche\n",
    "        self.puertas = num_puertas\n",
    "\n",
    "    def caracteristicas(self):\n",
    "        return \"Marca:\" + self.marca + \", Puertas:\" + str(self.puertas)\n",
    "    "
   ]
  },
  {
   "cell_type": "code",
   "execution_count": 12,
   "metadata": {
    "id": "nuJFpS4LCFJU"
   },
   "outputs": [
    {
     "data": {
      "text/plain": [
       "'Marca:Ford, Puertas:4'"
      ]
     },
     "execution_count": 12,
     "metadata": {},
     "output_type": "execute_result"
    }
   ],
   "source": [
    "ford_ka = Coche(\"Ford\")\n",
    "ford_ka.caracteristicas()"
   ]
  },
  {
   "cell_type": "markdown",
   "metadata": {
    "id": "vDAYUCBZCFJU"
   },
   "source": [
    "Fíjate que para llamar a las ruedas se usa `self`, a pesar de que no lo habíamos metido en el constructor. Así evitamos llamar a otra variable del programa que se llame *ruedas*. Nos aseguramos que son las ruedas de ese coche con el `self`."
   ]
  },
  {
   "cell_type": "code",
   "execution_count": 24,
   "metadata": {
    "id": "axuUXKyyCFJV"
   },
   "outputs": [
    {
     "ename": "NameError",
     "evalue": "name 'precio_coche' is not defined",
     "output_type": "error",
     "traceback": [
      "\u001b[1;31m---------------------------------------------------------------------------\u001b[0m",
      "\u001b[1;31mNameError\u001b[0m                                 Traceback (most recent call last)",
      "Cell \u001b[1;32mIn[24], line 20\u001b[0m\n\u001b[0;32m     17\u001b[0m         \u001b[38;5;28;01melse\u001b[39;00m:\n\u001b[0;32m     18\u001b[0m             \u001b[38;5;28;01mreturn\u001b[39;00m \u001b[38;5;28mself\u001b[39m\u001b[38;5;241m.\u001b[39mprecio \u001b[38;5;241m*\u001b[39m \u001b[38;5;241m0.3\u001b[39m\n\u001b[1;32m---> 20\u001b[0m jeep_cherokee \u001b[38;5;241m=\u001b[39m \u001b[43mCoche\u001b[49m\u001b[43m(\u001b[49m\u001b[38;5;124;43m\"\u001b[39;49m\u001b[38;5;124;43mJeep\u001b[39;49m\u001b[38;5;124;43m\"\u001b[39;49m\u001b[43m,\u001b[49m\u001b[38;5;241;43m35000\u001b[39;49m\u001b[43m,\u001b[49m\u001b[38;5;241;43m3\u001b[39;49m\u001b[43m)\u001b[49m\n\u001b[0;32m     21\u001b[0m jeep_cherokee\u001b[38;5;241m.\u001b[39mcaracteristicas()\n\u001b[0;32m     22\u001b[0m jeep_cherokee\u001b[38;5;241m.\u001b[39mprecio_actual(\u001b[38;5;241m8\u001b[39m)\n",
      "Cell \u001b[1;32mIn[24], line 7\u001b[0m, in \u001b[0;36mCoche.__init__\u001b[1;34m(self, marca_coche, precio, num_puertas)\u001b[0m\n\u001b[0;32m      5\u001b[0m \u001b[38;5;28mself\u001b[39m\u001b[38;5;241m.\u001b[39mmarca \u001b[38;5;241m=\u001b[39m marca_coche\n\u001b[0;32m      6\u001b[0m \u001b[38;5;28mself\u001b[39m\u001b[38;5;241m.\u001b[39mpuertas \u001b[38;5;241m=\u001b[39m num_puertas\n\u001b[1;32m----> 7\u001b[0m \u001b[38;5;28mself\u001b[39m\u001b[38;5;241m.\u001b[39mprecio \u001b[38;5;241m=\u001b[39m \u001b[43mprecio_coche\u001b[49m\n",
      "\u001b[1;31mNameError\u001b[0m: name 'precio_coche' is not defined"
     ]
    }
   ],
   "source": [
    "class Coche:\n",
    "    ruedas = 4\n",
    "\n",
    "    def __init__(self, marca_coche, precio, num_puertas = 4):\n",
    "        self.marca = marca_coche\n",
    "        self.puertas = num_puertas\n",
    "        self.precio = precio_coche\n",
    "\n",
    "    def caracteristicas(self):\n",
    "        return \"Marca:\" + self.marca + \", Puertas:\" + str(self.puertas)\n",
    "\n",
    "    def precio_actual(self, agnos):\n",
    "        if agnos < 5:\n",
    "            return self.precio * 0.7\n",
    "        elif agnos >5 and agnos >10:\n",
    "            return self.precio * 0.5\n",
    "        else:\n",
    "            return self.precio * 0.3\n",
    "\n",
    "jeep_cherokee = Coche(\"Jeep\",35000,3)\n",
    "jeep_cherokee.caracteristicas()\n",
    "jeep_cherokee.precio_actual(8)"
   ]
  },
  {
   "cell_type": "code",
   "execution_count": 22,
   "metadata": {
    "id": "Pd_hKV4MCFJV"
   },
   "outputs": [
    {
     "ename": "NameError",
     "evalue": "name 'precio_coche' is not defined",
     "output_type": "error",
     "traceback": [
      "\u001b[1;31m---------------------------------------------------------------------------\u001b[0m",
      "\u001b[1;31mNameError\u001b[0m                                 Traceback (most recent call last)",
      "Cell \u001b[1;32mIn[22], line 1\u001b[0m\n\u001b[1;32m----> 1\u001b[0m jeep_cherokee \u001b[38;5;241m=\u001b[39m \u001b[43mCoche\u001b[49m\u001b[43m(\u001b[49m\u001b[38;5;124;43m\"\u001b[39;49m\u001b[38;5;124;43mJeep\u001b[39;49m\u001b[38;5;124;43m\"\u001b[39;49m\u001b[43m,\u001b[49m\u001b[38;5;241;43m35000\u001b[39;49m\u001b[43m,\u001b[49m\u001b[38;5;241;43m3\u001b[39;49m\u001b[43m)\u001b[49m\n\u001b[0;32m      2\u001b[0m jeep_cherokee\u001b[38;5;241m.\u001b[39mcaracteristicas()\n\u001b[0;32m      3\u001b[0m jeep_cherokee\u001b[38;5;241m.\u001b[39mprecio_actual(\u001b[38;5;241m8\u001b[39m)\n",
      "Cell \u001b[1;32mIn[19], line 7\u001b[0m, in \u001b[0;36mCoche.__init__\u001b[1;34m(self, marca_coche, precio, num_puertas)\u001b[0m\n\u001b[0;32m      5\u001b[0m \u001b[38;5;28mself\u001b[39m\u001b[38;5;241m.\u001b[39mmarca \u001b[38;5;241m=\u001b[39m marca_coche\n\u001b[0;32m      6\u001b[0m \u001b[38;5;28mself\u001b[39m\u001b[38;5;241m.\u001b[39mpuertas \u001b[38;5;241m=\u001b[39m num_puertas\n\u001b[1;32m----> 7\u001b[0m \u001b[38;5;28mself\u001b[39m\u001b[38;5;241m.\u001b[39mprecio \u001b[38;5;241m=\u001b[39m \u001b[43mprecio_coche\u001b[49m\n",
      "\u001b[1;31mNameError\u001b[0m: name 'precio_coche' is not defined"
     ]
    }
   ],
   "source": [
    "jeep_cherokee = Coche(\"Jeep\",35000,3)\n",
    "jeep_cherokee.caracteristicas()\n",
    "jeep_cherokee.precio_actual(8)"
   ]
  },
  {
   "cell_type": "code",
   "execution_count": 34,
   "metadata": {},
   "outputs": [],
   "source": [
    "class Coche:\n",
    "    ruedas = 4\n",
    "\n",
    "    def __init__(self, marca_coche, precio_coche, num_puertas = 4):\n",
    "        self.marca = marca_coche\n",
    "        self.puertas = num_puertas\n",
    "        self.precio = precio_coche\n",
    "\n",
    "    def caracteristicas(self):\n",
    "        return \"Marca:\" + self.marca + \", Puertas:\" + str(self.puertas)\n",
    "\n",
    "    def precio_actual(self, agnos):\n",
    "        if agnos < 5:\n",
    "            return self.precio * 0.7\n",
    "        elif agnos >5 and agnos <10:\n",
    "            return self.precio * 0.5\n",
    "        else:\n",
    "            return self.precio * 0.3\n"
   ]
  },
  {
   "cell_type": "code",
   "execution_count": 35,
   "metadata": {},
   "outputs": [
    {
     "data": {
      "text/plain": [
       "17500.0"
      ]
     },
     "execution_count": 35,
     "metadata": {},
     "output_type": "execute_result"
    }
   ],
   "source": [
    "jeep_cherokee = Coche(\"Jeep\",35000)\n",
    "jeep_cherokee.precio_actual(8)"
   ]
  }
 ],
 "metadata": {
  "colab": {
   "include_colab_link": true,
   "provenance": []
  },
  "kernelspec": {
   "display_name": "Python 3 (ipykernel)",
   "language": "python",
   "name": "python3"
  },
  "language_info": {
   "codemirror_mode": {
    "name": "ipython",
    "version": 3
   },
   "file_extension": ".py",
   "mimetype": "text/x-python",
   "name": "python",
   "nbconvert_exporter": "python",
   "pygments_lexer": "ipython3",
   "version": "3.10.11"
  }
 },
 "nbformat": 4,
 "nbformat_minor": 4
}
