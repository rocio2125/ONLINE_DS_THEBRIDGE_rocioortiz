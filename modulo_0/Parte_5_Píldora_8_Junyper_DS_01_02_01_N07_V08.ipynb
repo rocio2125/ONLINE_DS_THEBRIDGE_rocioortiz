{
 "cells": [
  {
   "cell_type": "markdown",
   "metadata": {
    "colab_type": "text",
    "id": "view-in-github"
   },
   "source": [
    "<a href=\"https://colab.research.google.com/github/rocio2125/ONLINE_DS_THEBRIDGE_rocioortiz/blob/main/Parte_5_P%C3%ADldora_8_Junyper_DS_01_02_01_N07_V08.ipynb\" target=\"_parent\"><img src=\"https://colab.research.google.com/assets/colab-badge.svg\" alt=\"Open In Colab\"/></a>"
   ]
  },
  {
   "cell_type": "markdown",
   "metadata": {
    "id": "1CaLx-gfly8R"
   },
   "source": [
    "![TheBridge_Python_v0.png](attachment:TheBridge_Python_v0.png)"
   ]
  },
  {
   "cell_type": "markdown",
   "metadata": {
    "id": "X12Vx9R-ly8V"
   },
   "source": [
    "##  Argumentos posicionales\n"
   ]
  },
  {
   "cell_type": "markdown",
   "metadata": {
    "id": "ElP1eLUlly8W"
   },
   "source": [
    "### Contenidos\n"
   ]
  },
  {
   "cell_type": "markdown",
   "metadata": {
    "id": "qJ8y8hR6ly8W"
   },
   "source": [
    "* [Introducción  ](#Introducción--)\n"
   ]
  },
  {
   "cell_type": "markdown",
   "metadata": {
    "id": "Avg8Isg8ly8X"
   },
   "source": [
    "### Introducción  \n",
    "[al indice](#Contenidos)  \n",
    "\n",
    "Puedes implementar funciones con todos los argumentos que quieras. Ahora bien, ten en cuenta dos cosas:\n",
    "\n",
    "1. **El orden** de los argumentos. Cuando llamemos a la función, tenemos que seguir el mismo orden de argumentos que en la declaración de la función.\n",
    "2. **Son obligatorios**. Si los declaramos en la función, después al llamarla, tenemos que poner todos sus argumentos. Luego veremos que hay una manera de poner argumentos opcionales."
   ]
  },
  {
   "cell_type": "code",
   "execution_count": 12,
   "metadata": {
    "id": "fbOKxKzcly8Y"
   },
   "outputs": [
    {
     "data": {
      "text/plain": [
       "10.0"
      ]
     },
     "execution_count": 12,
     "metadata": {},
     "output_type": "execute_result"
    }
   ],
   "source": [
    "def multiplica(x1, x2, x3, x4):\n",
    "    resultado = (x1 * x2 * x3) / x4\n",
    "    return resultado\n",
    "\n",
    "multiplica(3,4,5,6)"
   ]
  },
  {
   "cell_type": "code",
   "execution_count": 13,
   "metadata": {},
   "outputs": [
    {
     "data": {
      "text/plain": [
       "10.0"
      ]
     },
     "execution_count": 13,
     "metadata": {},
     "output_type": "execute_result"
    }
   ],
   "source": [
    "multiplica(x1 = 3, x4 = 6, x3 = 5, x2 = 4)"
   ]
  },
  {
   "cell_type": "markdown",
   "metadata": {
    "id": "IjK_xDSgly8Y"
   },
   "source": [
    "Fijate que los argumentos siguen un determinado orden: x1, x2, x3, x4. Cuando llamamos a la función, introduciremos 4 argumentos y la función los recogerá en ese orden. Asignará 4 a x1, 6 a x2, etc. Podemos también especificar el nombre del argumento en la llamada, lo que nos permite tener mayor flexibilidad en el orden."
   ]
  },
  {
   "cell_type": "code",
   "execution_count": 14,
   "metadata": {
    "id": "S9nQ9Ew6ly8Z"
   },
   "outputs": [
    {
     "ename": "ZeroDivisionError",
     "evalue": "division by zero",
     "output_type": "error",
     "traceback": [
      "\u001b[1;31m---------------------------------------------------------------------------\u001b[0m",
      "\u001b[1;31mZeroDivisionError\u001b[0m                         Traceback (most recent call last)",
      "Cell \u001b[1;32mIn[14], line 1\u001b[0m\n\u001b[1;32m----> 1\u001b[0m \u001b[43mmultiplica\u001b[49m\u001b[43m(\u001b[49m\u001b[43mx4\u001b[49m\u001b[43m \u001b[49m\u001b[38;5;241;43m=\u001b[39;49m\u001b[43m \u001b[49m\u001b[38;5;241;43m0\u001b[39;49m\u001b[43m,\u001b[49m\u001b[43m \u001b[49m\u001b[43mx1\u001b[49m\u001b[43m \u001b[49m\u001b[38;5;241;43m=\u001b[39;49m\u001b[43m \u001b[49m\u001b[38;5;241;43m3\u001b[39;49m\u001b[43m,\u001b[49m\u001b[43m \u001b[49m\u001b[43mx2\u001b[49m\u001b[43m \u001b[49m\u001b[38;5;241;43m=\u001b[39;49m\u001b[43m \u001b[49m\u001b[38;5;241;43m4\u001b[39;49m\u001b[43m,\u001b[49m\u001b[43m \u001b[49m\u001b[43mx3\u001b[49m\u001b[43m \u001b[49m\u001b[38;5;241;43m=\u001b[39;49m\u001b[38;5;241;43m5\u001b[39;49m\u001b[43m)\u001b[49m\n",
      "Cell \u001b[1;32mIn[12], line 2\u001b[0m, in \u001b[0;36mmultiplica\u001b[1;34m(x1, x2, x3, x4)\u001b[0m\n\u001b[0;32m      1\u001b[0m \u001b[38;5;28;01mdef\u001b[39;00m\u001b[38;5;250m \u001b[39m\u001b[38;5;21mmultiplica\u001b[39m(x1, x2, x3, x4):\n\u001b[1;32m----> 2\u001b[0m     resultado \u001b[38;5;241m=\u001b[39m \u001b[43m(\u001b[49m\u001b[43mx1\u001b[49m\u001b[43m \u001b[49m\u001b[38;5;241;43m*\u001b[39;49m\u001b[43m \u001b[49m\u001b[43mx2\u001b[49m\u001b[43m \u001b[49m\u001b[38;5;241;43m*\u001b[39;49m\u001b[43m \u001b[49m\u001b[43mx3\u001b[49m\u001b[43m)\u001b[49m\u001b[43m \u001b[49m\u001b[38;5;241;43m/\u001b[39;49m\u001b[43m \u001b[49m\u001b[43mx4\u001b[49m\n\u001b[0;32m      3\u001b[0m     \u001b[38;5;28;01mreturn\u001b[39;00m resultado\n",
      "\u001b[1;31mZeroDivisionError\u001b[0m: division by zero"
     ]
    }
   ],
   "source": [
    "multiplica(x4 = 0, x1 = 3, x2 = 4, x3 =5)"
   ]
  },
  {
   "cell_type": "markdown",
   "metadata": {
    "id": "yJM3iowGly8a"
   },
   "source": [
    "<table align=\"left\">\n",
    " <tr>\n",
    "     <td style=\"text-align:left\">\n",
    "         <h3>ERRORES Traza del error dentro de la función</h3>\n",
    "         \n",
    " </td></tr>\n",
    "</table>"
   ]
  },
  {
   "cell_type": "code",
   "execution_count": null,
   "metadata": {
    "id": "1rfHl4JIly8a"
   },
   "outputs": [],
   "source": []
  },
  {
   "cell_type": "markdown",
   "metadata": {
    "id": "5C7kKiN4ly8a"
   },
   "source": [
    "Fijate que aparece toda la traza del error, tanto la línea donde llamas a la función, como el error dentro de la función. Podemos solventar el error, introduciendo un bloque `try/except`"
   ]
  },
  {
   "cell_type": "code",
   "execution_count": 16,
   "metadata": {
    "id": "2BGvt8Ixly8b"
   },
   "outputs": [
    {
     "name": "stdout",
     "output_type": "stream",
     "text": [
      "division by zero\n",
      "Error en la funcion\n"
     ]
    }
   ],
   "source": [
    "try: \n",
    "        multiplica(x4 = 0, x1 = 3, x2 = 4, x3 =5)\n",
    "except Exception as ex:\n",
    "    print(ex)\n",
    "    print(\"Error en la funcion\")"
   ]
  },
  {
   "cell_type": "code",
   "execution_count": 20,
   "metadata": {},
   "outputs": [
    {
     "name": "stdout",
     "output_type": "stream",
     "text": [
      "Error: no puedo dividir por 0\n"
     ]
    }
   ],
   "source": [
    "def multiplica(x1, x2, x3, x4):\n",
    "    if x4 == 0:\n",
    "            print(\"Error: no puedo dividir por 0\")\n",
    "    else:\n",
    "        resultado = (x1 * x2 * x3) / x4\n",
    "        return resultado\n",
    "\n",
    "multiplica(3,4,5,0)"
   ]
  }
 ],
 "metadata": {
  "colab": {
   "include_colab_link": true,
   "provenance": []
  },
  "kernelspec": {
   "display_name": "Python 3 (ipykernel)",
   "language": "python",
   "name": "python3"
  },
  "language_info": {
   "codemirror_mode": {
    "name": "ipython",
    "version": 3
   },
   "file_extension": ".py",
   "mimetype": "text/x-python",
   "name": "python",
   "nbconvert_exporter": "python",
   "pygments_lexer": "ipython3",
   "version": "3.10.11"
  }
 },
 "nbformat": 4,
 "nbformat_minor": 4
}
