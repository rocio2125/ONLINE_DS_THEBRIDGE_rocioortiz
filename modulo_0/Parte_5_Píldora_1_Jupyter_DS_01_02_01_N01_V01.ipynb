{
  "cells": [
    {
      "cell_type": "markdown",
      "metadata": {
        "id": "view-in-github",
        "colab_type": "text"
      },
      "source": [
        "<a href=\"https://colab.research.google.com/github/rocio2125/ONLINE_DS_THEBRIDGE_rocioortiz/blob/main/Parte_5_P%C3%ADldora_1_Jupyter_DS_01_02_01_N01_V01.ipynb\" target=\"_parent\"><img src=\"https://colab.research.google.com/assets/colab-badge.svg\" alt=\"Open In Colab\"/></a>"
      ]
    },
    {
      "cell_type": "markdown",
      "metadata": {
        "id": "pGcm3_iWzOTv"
      },
      "source": [
        "![TheBridge_Python_v0.png](attachment:TheBridge_Python_v0.png)"
      ]
    },
    {
      "cell_type": "markdown",
      "metadata": {
        "id": "luysepyzzOTx"
      },
      "source": [
        "# Python Colecciones: Listas\n",
        "\n",
        "\n",
        "Las colecciones son una manera de agrupar varios elementos. En otros notebooks vimos cómo funcionan las listas, que es la colección más usada, pero se trata solo de la punta del iceberg. Con Python tenemos varias manera de almacenar conjuntos de datos, dependiendo del tipo de dato, finalidad, tipo de acceso y rendimiento.\n",
        "  \n",
        "En este primer notebook vamos a repasar las listas y luego continuaremos con los otros tipo de colecciones básicos que tenemos en Python."
      ]
    },
    {
      "cell_type": "markdown",
      "metadata": {
        "id": "4N8n7MHCzOTz"
      },
      "source": [
        "##  Listas\n"
      ]
    },
    {
      "cell_type": "markdown",
      "metadata": {
        "id": "n4u20Vr4zOT0"
      },
      "source": [
        "### Contenidos\n"
      ]
    },
    {
      "cell_type": "markdown",
      "metadata": {
        "id": "X2hDy3sbzOT0"
      },
      "source": [
        "* [Introducción](#Introducción)\n",
        "\n",
        "* [Acceso](#Acceso)\n",
        "\n",
        "* [Modificar elementos](#Modificar-elementos)\n",
        "\n",
        "* [Añadir elementos](#Añadir-elementos)\n",
        "\n",
        "* [Eliminar elementos](#Eliminar-elementos)\n",
        "\n",
        "* [Métodos: ordenar, tamaño, invertir orden, ocurrencia](#Métodos:-ordenar,-tamaño,-invertir-orden,-ocurrencia)\n",
        "\n"
      ]
    },
    {
      "cell_type": "markdown",
      "metadata": {
        "id": "BtxlRbTtzOT1"
      },
      "source": [
        "### Introducción\n",
        "[al indice](#Contenidos)  \n",
        "\n",
        "Ya conocemos bastante las listas. Veamos un repaso de lo que podemos hacer con ellas, así como algunas funcionalidades nuevas"
      ]
    },
    {
      "cell_type": "code",
      "execution_count": null,
      "metadata": {
        "id": "2vtsWuDZzOT2"
      },
      "outputs": [],
      "source": [
        "# Listas de números, strings, booleanos, con elementos repetidos, listas anidadas...\n",
        "nums = [6, 2, 8, 3, 4, 5, 5]\n",
        "months = [\"Enero\", \"Febrero\", \"Marzo\"]\n",
        "mix = [5, 7, \"Abril\", True, None, [\"Blanco\", \"Negro\"]]"
      ]
    },
    {
      "cell_type": "markdown",
      "metadata": {
        "id": "GAzCSIOJzOT3"
      },
      "source": [
        "### Acceso\n",
        "[al indice](#Contenidos)  \n",
        "\n",
        "Entre corchetes introducimos el indice del elemento al que queremos acceder"
      ]
    },
    {
      "cell_type": "code",
      "execution_count": null,
      "metadata": {
        "id": "uLVDzreRzOT4"
      },
      "outputs": [],
      "source": [
        "months = [\"Enero\", \"Febrero\", \"Marzo\"]"
      ]
    },
    {
      "cell_type": "markdown",
      "metadata": {
        "id": "0OV5x_pTzOT4"
      },
      "source": [
        "Si planteamos el problema al revés. Tenemos los valores de la lista y lo que queremos es obtener el índice de esos valores dentro de la lista"
      ]
    },
    {
      "cell_type": "code",
      "execution_count": null,
      "metadata": {
        "id": "h44JTyb6zOT5"
      },
      "outputs": [],
      "source": [
        "months = [\"Enero\", \"Febrero\", \"Marzo\", \"Marzo\"]"
      ]
    },
    {
      "cell_type": "markdown",
      "metadata": {
        "id": "Or286OzgzOT5"
      },
      "source": [
        "**Slicing**: usamos slicing para acceder a varios elementos seguidos de la lista"
      ]
    },
    {
      "cell_type": "code",
      "execution_count": null,
      "metadata": {
        "id": "1m8tOckszOT5"
      },
      "outputs": [],
      "source": [
        "degrees = [22, 34, 15, 26, 18, 22]"
      ]
    },
    {
      "cell_type": "markdown",
      "metadata": {
        "id": "fBsrJOCZzOT5"
      },
      "source": [
        "### Modificar elementos\n",
        "[al indice](#Contenidos)  \n",
        "\n",
        "Las listas son mutables, por lo que podremos modificarlas"
      ]
    },
    {
      "cell_type": "code",
      "execution_count": null,
      "metadata": {
        "id": "b7btmnw6zOT5"
      },
      "outputs": [],
      "source": [
        "# Accediendo mediante el indice\n",
        "months = [\"Enero\", \"Febrero\", \"Marzo\"]"
      ]
    },
    {
      "cell_type": "markdown",
      "metadata": {
        "id": "cODEBby0zOT6"
      },
      "source": [
        "### Añadir elementos\n",
        "[al indice](#Contenidos)  \n",
        "\n",
        "Se añade al final de la lista si usamos `append`, o si queremos en un lugar concreto, mediante `insert`"
      ]
    },
    {
      "cell_type": "code",
      "execution_count": null,
      "metadata": {
        "id": "Hwl0laEOzOT6"
      },
      "outputs": [],
      "source": [
        "# Con append lo añadimos al final de la lista\n",
        "motorcycles = ['honda', 'yamaha', 'suzuki']"
      ]
    },
    {
      "cell_type": "code",
      "execution_count": null,
      "metadata": {
        "id": "n7FAOqKrzOT6"
      },
      "outputs": [],
      "source": [
        "# Es muy comun crear una lista vacia, y a lo largo del programa, ir añadiendo elementos"
      ]
    },
    {
      "cell_type": "markdown",
      "metadata": {
        "id": "amqPCvW6zOT6"
      },
      "source": [
        "### Eliminar elementos\n",
        "[al indice](#Contenidos)  \n",
        "\n",
        "Para eliminar elementos se usar `remove`. Si no existe, da error, así que cuidado con esta sentencia.\n",
        "\n",
        "En ocasiones resulta útil quedarnos con el elemento eliminado. Para ello usamos `pop()`, que elimina el elemento que le indiquemos, y además devuelve ese elemento por lo que podremos guardarlo en una variable para usarlo después."
      ]
    },
    {
      "cell_type": "code",
      "execution_count": null,
      "metadata": {
        "id": "RrLEVPRFzOT7"
      },
      "outputs": [],
      "source": [
        "cars = [\"VW\", \"Seat\", \"BMW\", \"VW\"]"
      ]
    },
    {
      "cell_type": "code",
      "execution_count": null,
      "metadata": {
        "id": "YyMn5muAzOT7"
      },
      "outputs": [],
      "source": [
        "# Eliminar elementos por indice, y guarda ese valor en una variable\n",
        "cars = [\"VW\", \"Seat\", \"BMW\", \"VW\"]"
      ]
    },
    {
      "cell_type": "markdown",
      "metadata": {
        "id": "4EwTuQKTzOT7"
      },
      "source": [
        "<table align=\"left\">\n",
        " <tr>\n",
        "     <td style=\"text-align:left\">\n",
        "         <h3>ERRORES remove</h3>\n",
        "         \n",
        " </td></tr>\n",
        "</table>"
      ]
    },
    {
      "cell_type": "code",
      "execution_count": null,
      "metadata": {
        "id": "OhWH60h_zOT7"
      },
      "outputs": [],
      "source": [
        "cars = [\"VW\", \"Seat\", \"BMW\", \"VW\"]"
      ]
    },
    {
      "cell_type": "markdown",
      "metadata": {
        "id": "7ioY_0HzzOT7"
      },
      "source": [
        "### Métodos: ordenar, tamaño, invertir orden, ocurrencia\n",
        "[al indice](#Contenidos)  \n",
        "\n",
        "En este apartado veremos los métodos más útiles, pero podrás consultar el resto en [este enlace](https://www.w3schools.com/python/python_ref_list.asp)"
      ]
    },
    {
      "cell_type": "code",
      "execution_count": null,
      "metadata": {
        "id": "sRz1xc0kzOT8"
      },
      "outputs": [],
      "source": [
        "degrees = [22, 34, 15, 26, 18, 22]"
      ]
    },
    {
      "cell_type": "markdown",
      "metadata": {
        "id": "4LllYkvpzOT8"
      },
      "source": [
        "<table align=\"left\">\n",
        " <tr>\n",
        "     <td style=\"text-align:left\">\n",
        "         <h3>ERRORES indice</h3>\n",
        "         \n",
        " </td></tr>\n",
        "</table>"
      ]
    },
    {
      "cell_type": "markdown",
      "metadata": {
        "id": "PtXAT0TjzOT8"
      },
      "source": [
        "Mucho cuidado cuando accedemos a los elementos de la lista. Es un error muy habitual acceder a un índice que no existe en la lista.\n",
        "\n",
        "Si estamos accediendo al ultimo elemento, en vez de poner el numero de su indice, poner mejor `-1`, y asi evitamos errores"
      ]
    },
    {
      "cell_type": "code",
      "execution_count": null,
      "metadata": {
        "id": "kvXEjHhwzOT8"
      },
      "outputs": [],
      "source": [
        "degrees = [22, 34, 15, 26, 18, 22]"
      ]
    },
    {
      "cell_type": "markdown",
      "metadata": {
        "id": "_2s7whKJzOT8"
      },
      "source": [
        "Si tenemos este tipo de errores y no sabemos resolverlos, lo mejor es imprimir la longitud de la lista, y todos los elementos."
      ]
    },
    {
      "cell_type": "code",
      "execution_count": null,
      "metadata": {
        "id": "Xq3SxPP3zOT8"
      },
      "outputs": [],
      "source": []
    }
  ],
  "metadata": {
    "kernelspec": {
      "display_name": "Python 3 (ipykernel)",
      "language": "python",
      "name": "python3"
    },
    "language_info": {
      "codemirror_mode": {
        "name": "ipython",
        "version": 3
      },
      "file_extension": ".py",
      "mimetype": "text/x-python",
      "name": "python",
      "nbconvert_exporter": "python",
      "pygments_lexer": "ipython3",
      "version": "3.9.7"
    },
    "colab": {
      "provenance": [],
      "include_colab_link": true
    }
  },
  "nbformat": 4,
  "nbformat_minor": 0
}