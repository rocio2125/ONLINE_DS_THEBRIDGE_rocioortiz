{
 "cells": [
  {
   "cell_type": "markdown",
   "metadata": {
    "colab_type": "text",
    "id": "view-in-github"
   },
   "source": [
    "<a href=\"https://colab.research.google.com/github/rocio2125/ONLINE_DS_THEBRIDGE_rocioortiz/blob/main/Parte_4_P%C3%ADldora_2_Junyper_DS_01_01_02_N07_V11.ipynb\" target=\"_parent\"><img src=\"https://colab.research.google.com/assets/colab-badge.svg\" alt=\"Open In Colab\"/></a>"
   ]
  },
  {
   "cell_type": "markdown",
   "metadata": {
    "id": "X-DNC9uJXx21"
   },
   "source": [
    "<img src = \"./img/TheBridge_logo_RGB_color.jpg\" width = 500><img src = \"./img/python.jpg\" width = 500>"
   ]
  },
  {
   "cell_type": "markdown",
   "metadata": {
    "id": "s9YILbMrXx24"
   },
   "source": [
    "# Python Basics I"
   ]
  },
  {
   "cell_type": "markdown",
   "metadata": {
    "id": "1MzQ4nIvXx25"
   },
   "source": [
    "## Contenidos"
   ]
  },
  {
   "cell_type": "markdown",
   "metadata": {
    "id": "2GoQJx2zXx25"
   },
   "source": [
    "* [Funciones (I): *Built in*\n",
    "](#Funciones-(I):-*Built-in*\n",
    ")\n",
    "* [Métodos\n",
    "](#Métodos\n",
    ")\n"
   ]
  },
  {
   "cell_type": "markdown",
   "metadata": {
    "id": "g7CkZgMJXx26"
   },
   "source": [
    "## Funciones (I): *Built in*\n",
    "[al indice](#Contenidos)  \n",
    "\n",
    "Hay una serie de funciones internas, que vienen en el intérprete de Python. Algunas de las más comunes son:\n",
    "* **Tipos**: `bool()`, `str()`, `int()`, `float()`\n",
    "* **Min/Max**: `min()`, `max()`\n",
    "* **print()**\n",
    "* **type()**\n",
    "* **range()**\n",
    "* **zip()**\n",
    "* **len()**\n",
    "* ...\n",
    "\n",
    "La sintaxis de la función es:\n",
    "\n",
    "```Python\n",
    "nombre_funcion(argumentos)\n",
    "```\n",
    "\n",
    "Algunas ya las hemos visto. Sin embargo, hay unas cuantas que las iremos descubriendo a lo largo de estos notebooks. Para más detalle, tienes [aquí](https://docs.python.org/3/library/functions.html) todas las funciones *built-in* de la documentación.\n",
    "\n",
    "De momento, en lo que se refiere a funciones, vamos a ir trabajando con funciones ya hechas, pero más adelante crearemos nuestras propias funciones."
   ]
  },
  {
   "cell_type": "code",
   "execution_count": 12,
   "metadata": {
    "id": "HKsNFl76Xx27"
   },
   "outputs": [
    {
     "name": "stdout",
     "output_type": "stream",
     "text": [
      "6\n",
      "8\n"
     ]
    }
   ],
   "source": [
    "# Len se usa para calcular la longitud de una variable. Ya veras que lo usaremos mucho en colecciones\n",
    "a = \"123456\"\n",
    "print(len(a))\n",
    "\n",
    "b = 1, 2, 8, 4, 5\n",
    "print(max(b))\n",
    "\n",
    "\n",
    "# Funcion max. Tiene tantos argumentos como cantidad de números entre los cuales queramos sacar su valor máximo.\n"
   ]
  },
  {
   "cell_type": "code",
   "execution_count": 19,
   "metadata": {},
   "outputs": [
    {
     "name": "stdout",
     "output_type": "stream",
     "text": [
      "la longitud de esta cadena es***\n",
      "***29\n",
      "esto va en otra linea\n"
     ]
    }
   ],
   "source": [
    "cadena = \"la longitud de esta cadena es\"\n",
    "print(cadena,\"\\n\", len(cadena), sep=\"***\", end = \"\\n\")\n",
    "print(\"esto va en otra linea\")"
   ]
  },
  {
   "cell_type": "code",
   "execution_count": null,
   "metadata": {},
   "outputs": [],
   "source": []
  },
  {
   "cell_type": "markdown",
   "metadata": {
    "id": "TUOq5sXJXx28"
   },
   "source": [
    "## Métodos\n",
    "[al indice](#Contenidos)  \n",
    "\n",
    "Se trata de una propiedad MUY utilizada en programación. Son funciones propias de las variables/objetos, y que nos permiten modificarlos u obtener más información de los mismos. Dependiendo del tipo de objeto, tendremos unos métodos disponibles diferentes.\n",
    "\n",
    "Para usar un método se usa la sintaxis `objeto.metodo()`. Ponemos un punto entre el nombre del objeto y el del metodo, y unos paréntesis por si el método necesita de algunos argumentos. **Aunque no necesite de argumentos, los paréntesis hay que ponerlos igualmente.**\n",
    "\n",
    "Veamos algunos ejemplos\n",
    "\n",
    "### String\n",
    "Una variable de tipo string, tiene una serie de métodos que permiten sacarle jugo a la cadena de texto. [Aquí](https://docs.python.org/2.5/lib/string-methods.html) tienes todos los métodos que podemos usar en cadenas de texto"
   ]
  },
  {
   "cell_type": "code",
   "execution_count": 30,
   "metadata": {
    "id": "IGS6Ec5yXx28"
   },
   "outputs": [
    {
     "name": "stdout",
     "output_type": "stream",
     "text": [
      "STRING EN MINÚSCULAS\n",
      "esto es un ejemplo diferente\n",
      "string en minusculas\n",
      "['esto se va', 'convertir en una lista']\n",
      "11\n"
     ]
    }
   ],
   "source": [
    "string_ejemplo= \"string en minúsculas\"\n",
    "#metodo para poner string en MAYUS\n",
    "print(string_ejemplo.upper())\n",
    "\n",
    "#metodo para poner string en minusculas\n",
    "print(\"ESTO ES UN EJEMPLO DIFERENTE\".lower())\n",
    "\n",
    "print(string_ejemplo.replace(\"ú\",\"u\"))\n",
    "\n",
    "print(\"esto se va a convertir en una lista\".split(\" a \"))\n",
    "\n",
    "print(string_ejemplo.index(\"m\")+1)\n"
   ]
  },
  {
   "cell_type": "code",
   "execution_count": null,
   "metadata": {},
   "outputs": [],
   "source": []
  },
  {
   "cell_type": "code",
   "execution_count": null,
   "metadata": {
    "id": "FTE_M67tXx28"
   },
   "outputs": [],
   "source": []
  },
  {
   "cell_type": "markdown",
   "metadata": {
    "id": "nVlqQ5hyXx29"
   },
   "source": [
    "Como ves, se pueden hacer muchas cosas en los Strings gracias a sus métodos. Ya verás cómo la cosa se pone más interesante cuando los tipos de los datos sean todavía más complejos.\n",
    "\n",
    "Los métodos son una manera de abstraernos de cierta operativa. Convertir todos los caracteres de una cadena a minuscula, puede ser un poco tedioso si no existiese el método `lower()`. Tendríamos que acudir a bucles o programación funcional."
   ]
  },
  {
   "cell_type": "markdown",
   "metadata": {
    "id": "wK1ciYBLXx29"
   },
   "source": [
    "<table align=\"left\">\n",
    " <tr><td width=\"80\"><img src=\"./img/error.png\" style=\"width:auto;height:auto\"></td>\n",
    "     <td style=\"text-align:left\">\n",
    "         <h3>ERRORES en métodos</h3>\n",
    "         \n",
    " </td></tr>\n",
    "</table>"
   ]
  },
  {
   "cell_type": "code",
   "execution_count": null,
   "metadata": {
    "id": "nvEv1If-Xx29",
    "scrolled": true
   },
   "outputs": [],
   "source": [
    "# Cuando un método necesita ciertos argumentos, y no se los proporcionamos\n"
   ]
  },
  {
   "cell_type": "code",
   "execution_count": null,
   "metadata": {
    "id": "DBcbV9eZXx2-"
   },
   "outputs": [],
   "source": []
  },
  {
   "cell_type": "code",
   "execution_count": null,
   "metadata": {
    "id": "jynhoJuJXx2-"
   },
   "outputs": [],
   "source": []
  }
 ],
 "metadata": {
  "colab": {
   "include_colab_link": true,
   "provenance": []
  },
  "kernelspec": {
   "display_name": "Python 3 (ipykernel)",
   "language": "python",
   "name": "python3"
  },
  "language_info": {
   "codemirror_mode": {
    "name": "ipython",
    "version": 3
   },
   "file_extension": ".py",
   "mimetype": "text/x-python",
   "name": "python",
   "nbconvert_exporter": "python",
   "pygments_lexer": "ipython3",
   "version": "3.10.11"
  }
 },
 "nbformat": 4,
 "nbformat_minor": 4
}
