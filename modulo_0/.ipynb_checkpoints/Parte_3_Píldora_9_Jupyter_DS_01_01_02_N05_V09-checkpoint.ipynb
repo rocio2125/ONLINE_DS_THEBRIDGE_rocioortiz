{
  "cells": [
    {
      "cell_type": "markdown",
      "metadata": {
        "id": "view-in-github",
        "colab_type": "text"
      },
      "source": [
        "<a href=\"https://colab.research.google.com/github/rocio2125/ONLINE_DS_THEBRIDGE_rocioortiz/blob/main/Parte_3_P%C3%ADldora_9_Jupyter_DS_01_01_02_N05_V09.ipynb\" target=\"_parent\"><img src=\"https://colab.research.google.com/assets/colab-badge.svg\" alt=\"Open In Colab\"/></a>"
      ]
    },
    {
      "cell_type": "markdown",
      "metadata": {
        "id": "vKqCtEyRdYyT"
      },
      "source": [
        "<img src = \"./img/TheBridge_logo_RGB_color.jpg\" width = 500>\n",
        "<img src = \"./img/python.jpg\" width = 500>"
      ]
    },
    {
      "cell_type": "markdown",
      "metadata": {
        "id": "RKeER9FfdYyW"
      },
      "source": [
        "# Python Basics I"
      ]
    },
    {
      "cell_type": "markdown",
      "metadata": {
        "id": "HSxfknP9dYyX"
      },
      "source": [
        "# Contenidos"
      ]
    },
    {
      "cell_type": "markdown",
      "metadata": {
        "id": "0P0kl97UdYyX"
      },
      "source": [
        "* [Operaciones aritméticas\n",
        "](#Operaciones-aritméticas\n",
        ")\n",
        "\n",
        "* [Operaciones comparativas\n",
        "](#Operaciones-comparativas\n",
        ")\n",
        "\n"
      ]
    },
    {
      "cell_type": "markdown",
      "metadata": {
        "id": "t4RJ9FcsdYyX"
      },
      "source": [
        "## Operaciones aritméticas\n",
        "[al indice](#Contenidos)  \n",
        "\n",
        "Hace un par de sesiones ya vimos por encima las principales operaciones aritméticas en Python. Las recordamos:\n",
        "* Sumar: `+`\n",
        "* Restar: `-`\n",
        "* Multiplicar: `*`\n",
        "* Dividir: `/`\n",
        "* Elevar: `**`\n",
        "* Cociente division: `//`\n",
        "* Resto de la división: `%`"
      ]
    },
    {
      "cell_type": "code",
      "execution_count": null,
      "metadata": {
        "id": "IQDQG0MWdYyY"
      },
      "outputs": [],
      "source": [
        "# Declarar y asignar una variable entera\n",
        "# Declarar y asignar una variable real o float\n",
        "# Sumar las variables y mostrar el resultado\n",
        "# Mostrar de qué tipo es el resultado\n",
        "# Multiplicar ambas variables y mostrar el resultado\n",
        "# Elevar una a la otr\n",
        "# Dividir una por otra y mostrar además el resto y el cociente"
      ]
    },
    {
      "cell_type": "code",
      "execution_count": null,
      "metadata": {
        "id": "WIl7q28edYyZ"
      },
      "outputs": [],
      "source": []
    },
    {
      "cell_type": "markdown",
      "metadata": {
        "id": "0HlFlRicdYya"
      },
      "source": [
        "### Propiedad conmutativa, asociativa, distributiva y el paréntesis\n",
        "Si queremos concatenar varias operaciones, ten siempre en cuenta las propiedades matemáticas de la multiplicación"
      ]
    },
    {
      "cell_type": "code",
      "execution_count": null,
      "metadata": {
        "id": "EhMOsp5LdYya"
      },
      "outputs": [],
      "source": [
        "print(\"Conmutativa\")\n",
        "print(2 * 3)\n",
        "print(3 * 2)\n",
        "\n",
        "print(\"\\nAsociativa\") # Recuerda que \"\\n\" se usa para que haya un salto de linea en el output.\n",
        "print((3 * 2) * 5)\n",
        "print(3 * (2 * 5))\n",
        "\n",
        "print(\"\\nDistributiva\")\n",
        "print(2 * (3 + 5))\n",
        "print(2 * 3 + 2 * 5)\n",
        "\n",
        "print(\"\\nEl Orden de operaciones se mantiene. Siempre podemos usar paréntesis\")\n",
        "print(2 * (2 + 3) * 5)\n",
        "print((2 * 2 + 3 * 5)/(4 + 7))"
      ]
    },
    {
      "cell_type": "markdown",
      "metadata": {
        "id": "dHRM0FFAdYya"
      },
      "source": [
        "### Operaciones más complejas\n",
        "Si salimos de las operaciones básicas de Python, tendremos que importar módulos con más funcionalidades en nuestro código. Esto lo haremos mediante la sentencia `import math`. `math` es un módulo con funciones ya predefinidas, que no vienen por defecto en el núcleo de Python. De esta forma será posible hacer cálculos más complejos como:\n",
        "\n",
        "* Raíz cuadrada\n",
        "* Seno/Coseno\n",
        "* Valor absoluto\n",
        "*...\n",
        "\n",
        "El módulo es completísimo y si estás buscando alguna operación matemática, lo más seguro es que ya esté implementada. Te dejo por aquí el [link a la documentación del módulo.](https://docs.python.org/3/library/math.html)."
      ]
    },
    {
      "cell_type": "code",
      "execution_count": null,
      "metadata": {
        "id": "1BnC-BkfdYyb"
      },
      "outputs": [],
      "source": []
    },
    {
      "cell_type": "markdown",
      "metadata": {
        "id": "2FvPBC7OdYyb"
      },
      "source": [
        "Como en todos los lenguajes de programación, suele haber una serie de componentes básicos (variables, operaciones aritméticas, tipos de datos...) con los que podemos hacer muchas cosas. Ahora bien, si queremos ampliar esas funcionalidades, se suelen importar nuevos módulos, con funciones ya hechas de otros usuarios, como en el caso del módulo `math`. Veremos esto de los módulos más adelante."
      ]
    },
    {
      "cell_type": "markdown",
      "metadata": {
        "id": "zAGcSTjJdYyb"
      },
      "source": [
        "<table align=\"left\">\n",
        " <tr><td width=\"80\"><img src=\"./img/error.png\" style=\"width:auto;height:auto\"></td>\n",
        "     <td style=\"text-align:left\">\n",
        "         <h3>ERRORES Dividir por cero</h3>\n",
        "         \n",
        " </td></tr>\n",
        "</table>"
      ]
    },
    {
      "cell_type": "markdown",
      "metadata": {
        "id": "DW8obFkcdYyb"
      },
      "source": [
        "Cuidado cuando operamos con 0s. Las indeterminaciones y valores infinitos suponen errores en el código. Por suerte, la descripción de estos errores es bastante explícita, obteniendo un error de tipo `ZeroDivisionError`"
      ]
    },
    {
      "cell_type": "code",
      "execution_count": null,
      "metadata": {
        "id": "rTgwvYAQdYyb"
      },
      "outputs": [],
      "source": []
    },
    {
      "cell_type": "code",
      "execution_count": null,
      "metadata": {
        "id": "pna2dtxEdYyb"
      },
      "outputs": [],
      "source": [
        "# Hay valores que se salen del dominio de algunas funciones matemáticas,\n",
        "# como es el caso de las raices de números negativos\n"
      ]
    },
    {
      "cell_type": "code",
      "execution_count": null,
      "metadata": {
        "id": "fMT8beWZdYyb"
      },
      "outputs": [],
      "source": []
    },
    {
      "cell_type": "markdown",
      "metadata": {
        "id": "HB_sY--NdYyc"
      },
      "source": [
        "## Operaciones comparativas\n",
        "[al indice](#Contenidos)  \n",
        "\n",
        "Es bastante intuitivo comparar valores en Python. La sintaxis es la siguiente:\n",
        "* `==`: Igualdad. No es un `=`. Hay que diferenciar entre una comparativa, y una asignación de valores\n",
        "* `!=`: Desigualdad\n",
        "* `>`: Mayor que\n",
        "* `<`: Menor que\n",
        "* `>=`: Mayor o igual que\n",
        "* `<=`: Menor o igual que"
      ]
    },
    {
      "cell_type": "markdown",
      "metadata": {
        "id": "acpCw7mldYyc"
      },
      "source": [
        "En la asignación estamos diciendole a Python que la variable `asign` vale 1, mientras que en la comparación, estamos preguntando a Python si `a` equivale a 5. Como vale 1, nos devuelve un `False`"
      ]
    },
    {
      "cell_type": "code",
      "execution_count": null,
      "metadata": {
        "id": "4Glrn0JodYyc"
      },
      "outputs": [],
      "source": []
    },
    {
      "cell_type": "markdown",
      "metadata": {
        "id": "xvPMaKvLdYyc"
      },
      "source": [
        "Veamos otros ejemplos de comparaciones"
      ]
    },
    {
      "cell_type": "code",
      "execution_count": null,
      "metadata": {
        "id": "Fh2URif9dYyc"
      },
      "outputs": [],
      "source": []
    },
    {
      "cell_type": "markdown",
      "metadata": {
        "id": "jxKSFAgYdYyc"
      },
      "source": [
        "<table align=\"left\">\n",
        " <tr><td width=\"80\"><img src=\"./img/error.png\" style=\"width:auto;height:auto\"></td>\n",
        "     <td style=\"text-align:left\">\n",
        "         <h3>ERRORES en comparativas</h3>\n",
        "         \n",
        " </td></tr>\n",
        "</table>"
      ]
    },
    {
      "cell_type": "markdown",
      "metadata": {
        "id": "u2XVyxeYdYyc"
      },
      "source": [
        "Este tipo de errores son muy comunes, pues es muy habitual comparar peras con manzanas. Cuando se trata de una igualdad (`==`), no suele haber problemas, ya que si las variables son de distinto tipo, simplemente es `False`. Lo ideal sería que Python nos avisase de estas cosas porque realmente lo estamos haciendo mal, no estamos comparando cosas del mismo tipo"
      ]
    },
    {
      "cell_type": "code",
      "execution_count": null,
      "metadata": {
        "id": "pqUw8EmadYyc"
      },
      "outputs": [],
      "source": []
    },
    {
      "cell_type": "code",
      "execution_count": null,
      "metadata": {
        "id": "q61TlfeLdYyc"
      },
      "outputs": [],
      "source": [
        "# Obtenemos un TypeError cuando la comparativa es de > o <\n"
      ]
    },
    {
      "cell_type": "code",
      "execution_count": null,
      "metadata": {
        "id": "Ste6cGyAdYyc"
      },
      "outputs": [],
      "source": []
    },
    {
      "cell_type": "code",
      "execution_count": null,
      "metadata": {
        "id": "m7o-FOOrdYyc"
      },
      "outputs": [],
      "source": []
    }
  ],
  "metadata": {
    "kernelspec": {
      "display_name": "Python 3",
      "language": "python",
      "name": "python3"
    },
    "language_info": {
      "codemirror_mode": {
        "name": "ipython",
        "version": 3
      },
      "file_extension": ".py",
      "mimetype": "text/x-python",
      "name": "python",
      "nbconvert_exporter": "python",
      "pygments_lexer": "ipython3",
      "version": "3.8.3"
    },
    "colab": {
      "provenance": [],
      "include_colab_link": true
    }
  },
  "nbformat": 4,
  "nbformat_minor": 0
}