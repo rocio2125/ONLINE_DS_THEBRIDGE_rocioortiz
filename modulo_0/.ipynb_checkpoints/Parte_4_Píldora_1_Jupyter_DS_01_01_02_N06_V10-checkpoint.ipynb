{
  "cells": [
    {
      "cell_type": "markdown",
      "metadata": {
        "id": "view-in-github",
        "colab_type": "text"
      },
      "source": [
        "<a href=\"https://colab.research.google.com/github/rocio2125/ONLINE_DS_THEBRIDGE_rocioortiz/blob/main/Parte_4_P%C3%ADldora_1_Jupyter_DS_01_01_02_N06_V10.ipynb\" target=\"_parent\"><img src=\"https://colab.research.google.com/assets/colab-badge.svg\" alt=\"Open In Colab\"/></a>"
      ]
    },
    {
      "cell_type": "markdown",
      "metadata": {
        "id": "BcRRr0E6u5sI"
      },
      "source": [
        "<img src = \"./img/TheBridge_logo_RGB_color.jpg\" width = 500>\n",
        "<img src = \"./img/python.jpg\" width = 500>"
      ]
    },
    {
      "cell_type": "markdown",
      "metadata": {
        "id": "qG6Vukcqu5sL"
      },
      "source": [
        "# Python Basics I"
      ]
    },
    {
      "cell_type": "markdown",
      "metadata": {
        "id": "uiTAIefFu5sL"
      },
      "source": [
        "## Contenidos"
      ]
    },
    {
      "cell_type": "markdown",
      "metadata": {
        "id": "wXNKZx4Du5sM"
      },
      "source": [
        "* [Operaciones con booleanos\n",
        "](#Operaciones-con-booleanos\n",
        ")\n",
        "\n"
      ]
    },
    {
      "cell_type": "markdown",
      "metadata": {
        "id": "RJh0mjvBu5sM"
      },
      "source": [
        "## Operaciones con booleanos\n",
        "[al indice](#Contenidos)  \n",
        "\n",
        "Todas las operaciones que realizabamos en el apartado anterior devolvían un tipo de dato concreto: un booleano. `True` o `False`. Pero ¿cómo harías si se tienen que cumplir 3 condiciones, o solo una de esas tres, o que no se cumplan 5 condiciones?\n",
        "Para este tipo de operaciones recurrimos al [*Álgebra de Boole*](https://es.wikipedia.org/wiki/%C3%81lgebra_de_Boole#:~:text=El%20%C3%A1lgebra%20de%20Boole%2C%20tambi%C3%A9n,que%20esquematiza%20las%20operaciones%20l%C3%B3gicas.). Se trata de una rama del álgebra que se utiliza en electrónica, pero que tiene un sin fin de aplicaciones, no solo téncicas, sino aplicables a la vida cotidiana. Estas matemáticas pueden llegar a ser muy complejas aún utilizando ñunicamente dos valores: `True` y `False`. Las operaciones más comunes son **AND, OR, NOR**.\n",
        "En las siguientes tablas tienes todos los posibles resultados de las puertas AND, OR, NOR, dependiendo de sus inputs.\n",
        "\n",
        "![imagen](./img/puertas_logicas.png)\n",
        "\n",
        "Puede parecer complejo pero a efectos prácticos, y sin meternos con otro tipo de puertas lógicas, te recomiendo seguir estas reglas:\n",
        "* **AND**: Se tienen que cumplir ambas condiciones para que sea un `True`\n",
        "* **OR**: Basta que se cumpla al menos una condicion para que sea `True`\n",
        "* **NOR**: Lo contrario de lo que haya\n",
        "\n",
        "Veamos un ejemplo práctico para aclarar estos conceptos. Imaginemos que queremos comprar un ordenador, pero nos cuesta decidirnos. Eso sí, tenemos claras las siguentes condiciones a la hora de elegir\n",
        "* La RAM me vale que tenga 16, 32 o 64 GB\n",
        "* En cuanto al procesador y disco duro, la combinación que mejor me viene es un i3 con 500GB de disco.\n",
        "* Precio: que no pase de los 800 €"
      ]
    },
    {
      "cell_type": "code",
      "execution_count": null,
      "metadata": {
        "id": "sTmmZ-vbu5sN"
      },
      "outputs": [],
      "source": [
        "# Primer ordenador\n",
        "ram1 = 32\n",
        "process1 = \"i5\"\n",
        "disco1 = 500\n",
        "precio1 = 850\n",
        "\n",
        "# Segundo ordenador\n",
        "ram2 = 8\n",
        "process2 = \"i5\"\n",
        "disco2 = 500\n",
        "precio2 = 600\n",
        "\n",
        "# Tercer ordenador\n",
        "ram3 = 32\n",
        "process3 = \"i3\"\n",
        "disco3 = 500\n",
        "precio3 = 780"
      ]
    },
    {
      "cell_type": "markdown",
      "metadata": {
        "id": "AizuhvT3u5sO"
      },
      "source": [
        "Veamos cómo implemento esto mediante operaciones booleanas"
      ]
    },
    {
      "cell_type": "code",
      "execution_count": null,
      "metadata": {
        "id": "ii1z4B2xu5sO"
      },
      "outputs": [],
      "source": [
        "# Primero, calculamos el valor de estas condiciones por separado\n",
        "# para el primer ordenador\n"
      ]
    },
    {
      "cell_type": "code",
      "execution_count": null,
      "metadata": {
        "id": "jdlKiUWXu5sP"
      },
      "outputs": [],
      "source": []
    },
    {
      "cell_type": "markdown",
      "metadata": {
        "id": "aL5Dj71Ku5sP"
      },
      "source": [
        "El primer ordenador cumple el requisito de ram, pero no los de precio y procesador/disco. Veamos los otros dos si los cumplen"
      ]
    },
    {
      "cell_type": "code",
      "execution_count": null,
      "metadata": {
        "id": "VO6ST1Zcu5sP"
      },
      "outputs": [],
      "source": [
        "# Calculamos las condiciones para los otros ordenadores"
      ]
    },
    {
      "cell_type": "markdown",
      "metadata": {
        "id": "g_WEV3OHu5sP"
      },
      "source": [
        "¡Bingo! El tercer ordenador cumple todas las condiciones para ser mi futura compra. Verás en próximos notebooks que esto se puede hacer todavía más sencillo mediante bucles y funciones.\n",
        "\n",
        "Si quieres aprender más sobre el **Álgebra de Boole**, te recomiendo [esta página](https://ryanstutorials.net/boolean-algebra-tutorial/)"
      ]
    },
    {
      "cell_type": "code",
      "execution_count": null,
      "metadata": {
        "id": "sCJC1yyuu5sP"
      },
      "outputs": [],
      "source": []
    },
    {
      "cell_type": "code",
      "execution_count": null,
      "metadata": {
        "id": "lP8yTvhsu5sP"
      },
      "outputs": [],
      "source": []
    }
  ],
  "metadata": {
    "kernelspec": {
      "display_name": "Python 3",
      "language": "python",
      "name": "python3"
    },
    "language_info": {
      "codemirror_mode": {
        "name": "ipython",
        "version": 3
      },
      "file_extension": ".py",
      "mimetype": "text/x-python",
      "name": "python",
      "nbconvert_exporter": "python",
      "pygments_lexer": "ipython3",
      "version": "3.8.3"
    },
    "colab": {
      "provenance": [],
      "include_colab_link": true
    }
  },
  "nbformat": 4,
  "nbformat_minor": 0
}