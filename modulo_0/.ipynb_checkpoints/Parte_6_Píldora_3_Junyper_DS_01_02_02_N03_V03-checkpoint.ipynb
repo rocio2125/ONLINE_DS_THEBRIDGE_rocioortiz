{
  "cells": [
    {
      "cell_type": "markdown",
      "metadata": {
        "id": "view-in-github",
        "colab_type": "text"
      },
      "source": [
        "<a href=\"https://colab.research.google.com/github/rocio2125/ONLINE_DS_THEBRIDGE_rocioortiz/blob/main/Parte_6_P%C3%ADldora_3_Junyper_DS_01_02_02_N03_V03.ipynb\" target=\"_parent\"><img src=\"https://colab.research.google.com/assets/colab-badge.svg\" alt=\"Open In Colab\"/></a>"
      ]
    },
    {
      "cell_type": "markdown",
      "metadata": {
        "id": "uPODHfnfCeq2"
      },
      "source": [
        "![TheBridge_Python_v0.png](attachment:TheBridge_Python_v0.png)"
      ]
    },
    {
      "cell_type": "markdown",
      "metadata": {
        "id": "0q48yD4ZCeq6"
      },
      "source": [
        "##  Atributos\n"
      ]
    },
    {
      "cell_type": "markdown",
      "metadata": {
        "id": "Bu8ihqbuCeq7"
      },
      "source": [
        "### Contenidos\n"
      ]
    },
    {
      "cell_type": "markdown",
      "metadata": {
        "id": "f5xM7vZTCeq8"
      },
      "source": [
        "* [Introducción  ](#Introducción--)\n"
      ]
    },
    {
      "cell_type": "markdown",
      "metadata": {
        "id": "qIU907cMCeq-"
      },
      "source": [
        "### Introducción  \n",
        "[al indice](#Contenidos)  \n",
        "Son las **características que definen a los objetos de una clase**. La marca, el color, potencia del coche. Estos son atributos, que se definen de manera genérica en la clase y luego cada objeto *Coche* tendrá un valor para cada uno de sus atributos.\n",
        "\n",
        "Los atributos los definimos tras la declaración de la clase. Y luego se accede a ellos mediante la sintaxis `objeto.atributo`\n",
        "\n",
        "Vamos a empezar a definir atributos en los coches."
      ]
    },
    {
      "cell_type": "code",
      "execution_count": null,
      "metadata": {
        "id": "kMmA5J4ZCeq_"
      },
      "outputs": [],
      "source": []
    },
    {
      "cell_type": "markdown",
      "metadata": {
        "id": "1U7lMW-iCerB"
      },
      "source": [
        "Ahora todos los coches que creamos, tendrán 4 puertas y 4 ruedas."
      ]
    },
    {
      "cell_type": "code",
      "execution_count": null,
      "metadata": {
        "id": "5Lyh5PuzCerC"
      },
      "outputs": [],
      "source": []
    },
    {
      "cell_type": "markdown",
      "metadata": {
        "id": "Mtcti_iECerD"
      },
      "source": [
        "También podemos modificar los atributos. Esto Python lo hace muy sencillo, los cambiamos directamente reasignando valores. En otros lenguajes de programación hay que implementar esto mediante métodos  denominados `getters` y `setters`."
      ]
    },
    {
      "cell_type": "code",
      "execution_count": null,
      "metadata": {
        "id": "w3GQHOQ5CerE"
      },
      "outputs": [],
      "source": []
    },
    {
      "cell_type": "markdown",
      "metadata": {
        "id": "qKcdVYSZCerE"
      },
      "source": [
        "<table align=\"left\">\n",
        " <tr><td width=\"80\"><img src=\"./img/error.png\" style=\"width:auto;height:auto\"></td>\n",
        "     <td style=\"text-align:left\">\n",
        "         <h3>ERRORES atributos que no existen</h3>\n",
        "         \n",
        " </td></tr>\n",
        "</table>"
      ]
    },
    {
      "cell_type": "code",
      "execution_count": null,
      "metadata": {
        "id": "of0wj87yCerF"
      },
      "outputs": [],
      "source": []
    },
    {
      "cell_type": "markdown",
      "metadata": {
        "id": "fEEOW_ZHCerG"
      },
      "source": [
        "Seguimos sin poder diferenciar claramente un coche de otro, pero ya vamos definiendo sus características, que será posible ir modificándolas tanto en la inicialización del objeto, como después. De momento, tenemos características comunes a todos los coches... o no, ¿todos los coches tienen 4 puertas?"
      ]
    }
  ],
  "metadata": {
    "kernelspec": {
      "display_name": "Python 3 (ipykernel)",
      "language": "python",
      "name": "python3"
    },
    "language_info": {
      "codemirror_mode": {
        "name": "ipython",
        "version": 3
      },
      "file_extension": ".py",
      "mimetype": "text/x-python",
      "name": "python",
      "nbconvert_exporter": "python",
      "pygments_lexer": "ipython3",
      "version": "3.9.7"
    },
    "colab": {
      "provenance": [],
      "include_colab_link": true
    }
  },
  "nbformat": 4,
  "nbformat_minor": 0
}