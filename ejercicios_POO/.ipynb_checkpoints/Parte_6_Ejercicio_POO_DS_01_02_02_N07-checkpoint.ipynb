{
 "cells": [
  {
   "cell_type": "markdown",
   "metadata": {
    "colab_type": "text",
    "id": "view-in-github"
   },
   "source": [
    "<a href=\"https://colab.research.google.com/github/rocio2125/ONLINE_DS_THEBRIDGE_rocioortiz/blob/main/Parte_6_Ejercicio_POO_DS_01_02_02_N07.ipynb\" target=\"_parent\"><img src=\"https://colab.research.google.com/assets/colab-badge.svg\" alt=\"Open In Colab\"/></a>"
   ]
  },
  {
   "cell_type": "markdown",
   "metadata": {
    "id": "vigJnuAMSU4x"
   },
   "source": [
    "![TheBridge_logo_RGB_color.jpg](attachment:TheBridge_logo_RGB_color.jpg)"
   ]
  },
  {
   "cell_type": "markdown",
   "metadata": {
    "id": "2xmnwM17SU4y"
   },
   "source": [
    "![ejercicios.png](attachment:ejercicios.png)"
   ]
  },
  {
   "cell_type": "markdown",
   "metadata": {
    "id": "liorA-1ZSU4y"
   },
   "source": [
    "# Ejercicios Clases y Objetos"
   ]
  },
  {
   "cell_type": "markdown",
   "metadata": {
    "id": "5xXUz5l9SU4z"
   },
   "source": [
    "## Ejercicio 1\n",
    "Somos una empresa que tiene varias tiendas de electrodomesticos. Necesitamos un programa para manejar las tiendas, ver las ventas que han tenido, cuántos empleados hay, etc... Para ello vamos a modelizar la tienda en una clase, que tendrá las siguientes características:\n",
    "* Nombre clase: \"Tienda\"\n",
    "* Atributos comunes:\n",
    "    * Tipo: \"Electrodomésticos\"\n",
    "    * Abierta: True\n",
    "* Atributos propios de cada tienda:\n",
    "    * Nombre - String\n",
    "    * Dirección - String\n",
    "    * Número de empleados - int\n",
    "    * Ventas ultimos 3 meses - Lista de 3 numeros\n",
    "* Método para calcular las ventas de todos los meses, que devuelva un numero con todas las ventas.\n",
    "* Método que calcula la media de ventas de los ultimos meses, por empleado\n",
    "* Método que devuelve en un string el nombre de la tienda, junto con su dirección.\n",
    "* Método que obtiene las ventas del último mes.\n",
    "* Método para dar una proyección de las ventas en caso de haber invertido X dinero en marketing en esa tienda. Siendo X el parámetro de entrada. Si X es menor de 1000, las ventas de los ultimos 3 meses hubiesen sido de (1.2 x ventas), si es mayor o igual de 1000, las ventas hubiesen sido de (1.5 x venta). El método reescribe el atributo de ventas en los últimos 3 meses, y además devuelve las ventas con el aumento.\n",
    "\n",
    "Se pide:\n",
    "1. Implementar la clase \"Tienda\"\n",
    "2. Crear tres tiendas con datos inventados\n",
    "3. Comprueba en al menos una de ellas, todo lo implementado en la clase tienda (sus atributos, media de ventas, ventas/empleado...)\n",
    "3. Calcular las ventas del último mes de todas las tiendas. Para ello usa el bucle `for`\n",
    "4. Imprime por pantalla los nombres de las tiendas cuya dirección lleve el string \"Avenida\"\n",
    "5. Seguro que ya has hecho este apartado... Documenta la clase :)"
   ]
  },
  {
   "cell_type": "code",
   "execution_count": 33,
   "metadata": {
    "id": "5cLQcLxfSU4z"
   },
   "outputs": [],
   "source": [
    "class Tienda:\n",
    "    def __init__(self, nombre_tienda, direccion_tienda, num_empleados_tienda, ventas_tienda, tipo_tienda =\"Electrodomesticos\" , abierta = True):\n",
    "        self.nombre = nombre_tienda\n",
    "        self.direccion = direccion_tienda\n",
    "        self.num_empleados = int(num_empleados_tienda)\n",
    "        self.ventas = list(ventas_tienda)\n",
    "        self.tipo = tipo_tienda\n",
    "        self.abierta = abierta\n",
    "        \n",
    "    def ventas_totales(self):\n",
    "        return \"La suma de las ventas de los ultimos meses es: \" + str(sum(self.ventas))\n",
    "    def ventas_empleado(self):\n",
    "        return \"Las ventas por empleado son: \" + str(sum(self.ventas) / self.num_empleados)\n",
    "    def nombre_direccion(self):\n",
    "        return \"La tienda \" + self.nombre + \" está en \" + self.direccion\n",
    "    def ventas_ultimo_mes(self):\n",
    "        return \"Las ventas del último mes de \" + self.nombre + \" fueron: \" + str(self.ventas[-1])\n",
    "    def proyeccion_ventas(self,inversion):\n",
    "        if inversion < 1000:\n",
    "            self.ventas = [n * 1.2 for n in self.ventas]\n",
    "            return \"Las ventas hubieran sido \" + str(self.ventas)\n",
    "        else:\n",
    "            self.ventas = [n * 1.5 for n in self.ventas]\n",
    "            return \"Las ventas hubieran sido \" + str(self.ventas)\n"
   ]
  },
  {
   "cell_type": "code",
   "execution_count": 34,
   "metadata": {},
   "outputs": [
    {
     "name": "stdout",
     "output_type": "stream",
     "text": [
      "Comprobacion de los atributos de tienda1: \n",
      "Nombre: ElectroHogar <class 'str'> \n",
      "Dirección: Calle Rio Vinalopó, 3 <class 'str'> \n",
      "Numero de empleados: 3 <class 'int'> \n",
      "Ventas en los ultimos 3 meses: [10000, 25000, 6000] <class 'list'> \n",
      "Tipo de tienda Electrodomesticos <class 'str'> \n",
      "¿Está abierta? True <class 'bool'>\n",
      "******\n",
      "Comprobación de métodos: \n",
      "Tienda1: La suma de las ventas de los ultimos meses es: 41000 \n",
      "Tienda1: Las ventas por empleado son: 13666.666666666666 \n",
      "Tienda1: La tienda ElectroHogar está en Calle Rio Vinalopó, 3 \n",
      "Tienda1: Las ventas del último mes de ElectroHogar fueron: 6000 \n",
      "Si se hubiera invertido en tienda1 4000 las ventas serían: Las ventas hubieran sido [15000.0, 37500.0, 9000.0] \n",
      "Si se hubiera invertido en tienda2 100 las ventas serían: Las ventas hubieran sido [96000.0, 60000.0, 72000.0]\n",
      "******\n",
      "Las ventas del último mes de ElectroHogar fueron: 9000.0\n",
      "Las ventas del último mes de ConfortCasa fueron: 72000.0\n",
      "Las ventas del último mes de EcoFrio fueron: 3000\n",
      "******\n",
      "Las tiendas situadas en avenidas son:\n",
      "ConfortCasa\n",
      "EcoFrio\n"
     ]
    }
   ],
   "source": [
    "tienda1 = Tienda(\n",
    "    \"ElectroHogar\",\n",
    "    \"Calle Rio Vinalopó, 3\",\n",
    "    3,\n",
    "    [10000,25000,6000]\n",
    ")\n",
    "tienda2 = Tienda(\n",
    "    \"ConfortCasa\",\n",
    "    \"Avenida del vivero, 36\",\n",
    "    9,\n",
    "    [80000,50000,60000]\n",
    ")\n",
    "tienda3 = Tienda(\n",
    "    \"EcoFrio\",\n",
    "    \"Avenida del piojo, 25\",\n",
    "    2,\n",
    "    [6050,9600,3000]\n",
    ")\n",
    "\n",
    "print(\"Comprobacion de los atributos de tienda1:\", \n",
    "      \"\\nNombre:\", tienda1.nombre, type(tienda1.nombre),\n",
    "      \"\\nDirección:\", tienda1.direccion, type(tienda1.direccion),\n",
    "      \"\\nNumero de empleados:\", tienda1.num_empleados, type(tienda1.num_empleados),\n",
    "      \"\\nVentas en los ultimos 3 meses:\", tienda1.ventas, type(tienda1.ventas),\n",
    "      \"\\nTipo de tienda\", tienda1.tipo, type(tienda1.tipo),\n",
    "      \"\\n¿Está abierta?\", tienda1.abierta, type(tienda1.abierta)\n",
    ")\n",
    "print(\"******\")\n",
    "print(\"Comprobación de métodos:\",\n",
    "      \"\\nTienda1:\",tienda1.ventas_totales(), \n",
    "      \"\\nTienda1:\",tienda1.ventas_empleado(), \n",
    "      \"\\nTienda1:\",tienda1.nombre_direccion(), \n",
    "      \"\\nTienda1:\",tienda1.ventas_ultimo_mes(),\n",
    "      \"\\nSi se hubiera invertido en tienda1 4000 las ventas serían:\",tienda1.proyeccion_ventas(4000),\n",
    "      \"\\nSi se hubiera invertido en tienda2 100 las ventas serían:\",tienda2.proyeccion_ventas(100))\n",
    "\n",
    "\n",
    "print(\"******\")\n",
    "tiendas = [tienda1,tienda2,tienda3]\n",
    "for tienda in tiendas:\n",
    "    print(tienda.ventas_ultimo_mes())\n",
    "\n",
    "    \n",
    "\n",
    "print(\"******\")\n",
    "print(\"Las tiendas situadas en avenidas son:\")\n",
    "for tienda in tiendas:\n",
    "    if \"Avenida\" in tienda.direccion:\n",
    "        print(tienda.nombre)\n",
    "    \n"
   ]
  },
  {
   "cell_type": "markdown",
   "metadata": {
    "id": "WEBq7EpsSU40"
   },
   "source": [
    "## Ejercicio 2\n",
    "En este ejercicio vamos a implementar una clase *Perro* en Python. La clase tiene las siguientes características:\n",
    "* Cosas que sabemos seguro que tiene un perro\n",
    "    * Tiene 4 patas\n",
    "    * 2 orejas\n",
    "    * 2 ojos\n",
    "    * Una velocidad de 0. Por defecto, el perro está parado\n",
    "* Cuando se inicialice:\n",
    "    * El perro será de una determinada raza\n",
    "    * Por defecto tendrá pelo \"Marrón\", a no ser que se diga lo contrario.\n",
    "    * Por defecto no tendrá dueño, a no ser que se diga lo contrario.\n",
    "    \n",
    "* Dispondrá también de un método llamado andar, que tiene un argumento de entrada (aumento_velocidad). Este valor se le sumará a la velocidad que ya llevaba el perro.\n",
    "* Necesita otro método (parar), donde pondremos la velocidad a 0.\n",
    "* Otro método llamado \"ladrar\", que tendrá un argumento de entrada, y la salida será el siguiente string: \"GUAU!\" + el argumento de entrada.\n",
    "\n",
    "\n",
    "Se pide:\n",
    "* Implementa la clase *Perro*\n",
    "* Crea un objeto de tipo *Perro*, sin dueño\n",
    "* Comprueba que están bien todos sus atributos\n",
    "* Prueba que ande, y comprueba su velocidad\n",
    "* Páralo\n",
    "* Documenta la clase *Perro*"
   ]
  },
  {
   "cell_type": "code",
   "execution_count": 36,
   "metadata": {
    "id": "DpEWvbwGSU40"
   },
   "outputs": [],
   "source": [
    "class Perro:\n",
    "    def __init__(self, raza_perro, color_perro = \"Marrón\", humano_perro = False, patas_perro = 4, orejas_perro = 2, ojos_perro = 2, velocidad_perro = 0):\n",
    "        self.raza = raza_perro,\n",
    "        self.color = color_perro,\n",
    "        self.humano = humano_perro,\n",
    "        self.patas = patas_perro,\n",
    "        self.orejas = orejas_perro,\n",
    "        self.ojos = ojos_perro,\n",
    "        self.velocidad = velocidad_perro\n",
    "    def aumento_velocidad(self,aumento):\n",
    "        self.velocidad = self.velocidad + aumento\n",
    "        return \"El perro va a: \" + str(self.velocidad)\n",
    "    def parar(self):\n",
    "        self.velocidad = 0\n",
    "        return \"El perro va a: \" + str(self.velocidad)\n",
    "    def ladrar(self,frase):\n",
    "        return \"GUAU! \" + frase\n",
    "        \n",
    "        \n",
    "    "
   ]
  },
  {
   "cell_type": "code",
   "execution_count": 40,
   "metadata": {},
   "outputs": [
    {
     "name": "stdout",
     "output_type": "stream",
     "text": [
      "Los atributos de denco son: \n",
      "Raza:  ('Podenco',) \n",
      "Color: ('Marrón',) \n",
      "¿Tiene humano?: (False,) \n",
      "¿Cuántas patas tiene?: (4,) \n",
      "¿Cuántas orejas tiene?: (2,) \n",
      "¿Cuántos ojos tiene?: (2,) \n",
      "¿A qué velocidad va?: 0\n",
      "Vamos a hacer que denco ande:\n",
      " El perro va a: 5\n",
      "Vamos a hacer que denco pare:\n",
      " El perro va a: 0\n",
      "Vamos a hacer que denco ladre:\n",
      " GUAU! Hola a todos\n"
     ]
    }
   ],
   "source": [
    "denco = Perro(\"Podenco\")\n",
    "print(\"Los atributos de denco son:\",\n",
    "\"\\nRaza: \", denco.raza,\n",
    "\"\\nColor:\", denco.color, \n",
    "\"\\n¿Tiene humano?:\", denco.humano, \n",
    "\"\\n¿Cuántas patas tiene?:\", denco.patas, \n",
    "\"\\n¿Cuántas orejas tiene?:\",denco.orejas, \n",
    "\"\\n¿Cuántos ojos tiene?:\",denco.ojos, \n",
    "\"\\n¿A qué velocidad va?:\",denco.velocidad\n",
    "     )\n",
    "print(\"Vamos a hacer que denco ande:\\n\", denco.aumento_velocidad(5))\n",
    "print(\"Vamos a hacer que denco pare:\\n\", denco.parar())\n",
    "print(\"Vamos a hacer que denco ladre:\\n\", denco.ladrar(\"Hola a todos\"))"
   ]
  }
 ],
 "metadata": {
  "colab": {
   "include_colab_link": true,
   "provenance": []
  },
  "kernelspec": {
   "display_name": "Python 3 (ipykernel)",
   "language": "python",
   "name": "python3"
  },
  "language_info": {
   "codemirror_mode": {
    "name": "ipython",
    "version": 3
   },
   "file_extension": ".py",
   "mimetype": "text/x-python",
   "name": "python",
   "nbconvert_exporter": "python",
   "pygments_lexer": "ipython3",
   "version": "3.10.11"
  }
 },
 "nbformat": 4,
 "nbformat_minor": 4
}
