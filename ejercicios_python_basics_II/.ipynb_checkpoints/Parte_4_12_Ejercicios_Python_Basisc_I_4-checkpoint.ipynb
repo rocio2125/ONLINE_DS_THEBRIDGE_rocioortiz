{
 "cells": [
  {
   "cell_type": "markdown",
   "metadata": {
    "colab_type": "text",
    "id": "view-in-github"
   },
   "source": [
    "<a href=\"https://colab.research.google.com/github/rocio2125/ONLINE_DS_THEBRIDGE_rocioortiz/blob/main/Parte_4_12_Ejercicios_Python_Basisc_I_4.ipynb\" target=\"_parent\"><img src=\"https://colab.research.google.com/assets/colab-badge.svg\" alt=\"Open In Colab\"/></a>"
   ]
  },
  {
   "cell_type": "markdown",
   "metadata": {
    "id": "_yQY4xh3tLYs"
   },
   "source": [
    "![TheBridge_logo_RGB_color.jpg](attachment:TheBridge_logo_RGB_color.jpg)"
   ]
  },
  {
   "cell_type": "markdown",
   "metadata": {
    "id": "IFbSSeEWtLYv"
   },
   "source": [
    "![imagen](./img/ejercicios.png)"
   ]
  },
  {
   "cell_type": "markdown",
   "metadata": {
    "id": "ue5BWgbotLYw"
   },
   "source": [
    "## EJERCICIOS PYTHON BASICO 4:\n",
    "## Funciones, métodos, listas"
   ]
  },
  {
   "cell_type": "markdown",
   "metadata": {
    "id": "slxDZHV1tLYw"
   },
   "source": [
    "Completa los siguiente ejercicios, la solución completa a los mismos se publicarán en el repo del curso a lo largo del sprint. En algunos ejercicios se muestra la solución final, para que puedas comprobar que lo has hecho bien, pero lo importante es el código que generes. ¡Vaaamos, a ello...!"
   ]
  },
  {
   "cell_type": "markdown",
   "metadata": {
    "id": "8LKQyCVctLYw"
   },
   "source": [
    "![ejercicio.png](./img/ejercicio.png)\n",
    "\n",
    "## Ejercicio 1\n",
    "Para este ejercicio vamos a poner en práctica [las funciones built in](https://docs.python.org/3/library/functions.html).\n",
    "\n",
    "1. Calcula el máximo de la lista: [4, 6, 8, -1]\n",
    "2. Suma todos los elementos de la lista anterior\n",
    "3. Redondea este float a 3 dígitos decimales: 63.451256965\n",
    "4. Valor absoluto de: -74"
   ]
  },
  {
   "cell_type": "code",
   "execution_count": 8,
   "metadata": {
    "id": "bsaVa_d-tLYx"
   },
   "outputs": [
    {
     "name": "stdout",
     "output_type": "stream",
     "text": [
      "1) 8\n",
      "2) 17\n",
      "3) 63.451\n",
      "4) 74\n"
     ]
    }
   ],
   "source": [
    "lista = [4,6,8,-1]\n",
    "print(\"1)\", max(lista))\n",
    "print(\"2)\", sum(lista))\n",
    "print(\"3)\", round(63.451256965,3))\n",
    "print(\"4)\", abs(-74))"
   ]
  },
  {
   "cell_type": "markdown",
   "metadata": {
    "id": "XbkNPtb5tLYx"
   },
   "source": [
    "![ejercicio.png](./img/ejercicio.png)\n",
    "\n",
    "## Ejercicio 2\n",
    "Para el siguiente string se pide imprimir por pantalla los siguientes casos\n",
    "\n",
    "    \"En un lugar de la Mancha, de cuyo nombre no quiero acordarme.\"\n",
    "\n",
    "1. Pásalo todo a mayúsculas\n",
    "2. Pásalo todo a minúsculas\n",
    "3. Solo la primera letra de cada palabra en mayúscula, el resto en minúscula\n",
    "4. Crea una lista dividiéndolo por sus espacios\n",
    "5. Sustituye las comas `,` por puntos y comas `;`\n",
    "6. Elimina las `a` minúsculas"
   ]
  },
  {
   "cell_type": "code",
   "execution_count": 10,
   "metadata": {
    "id": "WhiRDm3ttLYy",
    "outputId": "517fdfe0-d3de-4971-dbe7-3ab9041f6e39"
   },
   "outputs": [
    {
     "name": "stdout",
     "output_type": "stream",
     "text": [
      "1) EN UN LUGAR DE LA MANCHA, DE CUYO NOMBRE NO QUIERO ACORDARME.\n",
      "2) en un lugar de la mancha, de cuyo nombre no quiero acordarme.\n",
      "3) En Un Lugar De La Mancha, De Cuyo Nombre No Quiero Acordarme.\n",
      "4) ['En', 'un', 'lugar', 'de', 'la', 'Mancha,', 'de', 'cuyo', 'nombre', 'no', 'quiero', 'acordarme.']\n",
      "5) En un lugar de la Mancha; de cuyo nombre no quiero acordarme.\n",
      "6) En un lugr de l Mnch, de cuyo nombre no quiero cordrme.\n"
     ]
    }
   ],
   "source": [
    "frase = \"En un lugar de la Mancha, de cuyo nombre no quiero acordarme.\"\n",
    "print(\"1)\", frase.upper())\n",
    "print(\"2)\", frase.lower())\n",
    "print(\"3)\", frase.title())\n",
    "print(\"4)\", frase.split(sep=\" \"))\n",
    "print(\"5)\", frase.replace(\",\",\";\"))\n",
    "print(\"6)\", frase.replace(\"a\",\"\"))"
   ]
  },
  {
   "cell_type": "markdown",
   "metadata": {
    "id": "NbTYSpuYtLYy"
   },
   "source": [
    "![ejercicio.png](./img/ejercicio.png)\n",
    "\n",
    "## Ejercicio 3\n",
    "1. Crea una lista con 3 elementos numéricos\n",
    "2. Añade un cuarto elemento\n",
    "3. Calcula la suma de todos\n",
    "4. Elimina el segundo elemento de la lista\n",
    "5. Añade otro elemento en la posicion 3 de la lista\n",
    "6. Crea otra lista con 4 elementos y concaténala a la que ya tenías.\n",
    "7. Ordena la lista de menor a mayor.\n",
    "8. BONUS: Ordena la lista de mayor a menor.  \n",
    "(*PISTA: Para hacer 8, tendrás que buscar en la información del método...*)  \n",
    "  \n",
    "  \n",
    "NOTA: Pinta por pantalla el resultado de cada paso."
   ]
  },
  {
   "cell_type": "code",
   "execution_count": 23,
   "metadata": {
    "id": "RIUnDUTJtLYy",
    "outputId": "6275fa3f-0a0a-4830-e110-76533f035b35"
   },
   "outputs": [
    {
     "name": "stdout",
     "output_type": "stream",
     "text": [
      "1) [2, 4, 8]\n",
      "2) [2, 4, 8, 16]\n",
      "3) 30\n",
      "4) [2, 8, 16]\n",
      "5) [2, 8, 32, 16]\n",
      "6) [2, 8, 32, 16, 64, 128, 256, 512]\n",
      "7) [2, 8, 16, 32, 64, 128, 256, 512]\n",
      "8) [512, 256, 128, 64, 32, 16, 8, 2]\n"
     ]
    }
   ],
   "source": [
    "lista = [2,4,8]\n",
    "print(\"1)\",lista)\n",
    "lista.append(16)\n",
    "print(\"2)\",lista)\n",
    "print(\"3)\",sum(lista))\n",
    "lista.pop(1)\n",
    "print(\"4)\",lista)\n",
    "lista.insert(2,32)\n",
    "print(\"5)\",lista)\n",
    "lista_2 = [64,128,256,512]\n",
    "lista.extend(lista_2)\n",
    "print(\"6)\",lista)\n",
    "lista.sort()\n",
    "print(\"7)\",lista)\n",
    "lista.sort(reverse=True)\n",
    "print(\"8)\",lista)\n",
    "      "
   ]
  }
 ],
 "metadata": {
  "colab": {
   "include_colab_link": true,
   "provenance": []
  },
  "kernelspec": {
   "display_name": "Python 3 (ipykernel)",
   "language": "python",
   "name": "python3"
  },
  "language_info": {
   "codemirror_mode": {
    "name": "ipython",
    "version": 3
   },
   "file_extension": ".py",
   "mimetype": "text/x-python",
   "name": "python",
   "nbconvert_exporter": "python",
   "pygments_lexer": "ipython3",
   "version": "3.10.11"
  }
 },
 "nbformat": 4,
 "nbformat_minor": 4
}
