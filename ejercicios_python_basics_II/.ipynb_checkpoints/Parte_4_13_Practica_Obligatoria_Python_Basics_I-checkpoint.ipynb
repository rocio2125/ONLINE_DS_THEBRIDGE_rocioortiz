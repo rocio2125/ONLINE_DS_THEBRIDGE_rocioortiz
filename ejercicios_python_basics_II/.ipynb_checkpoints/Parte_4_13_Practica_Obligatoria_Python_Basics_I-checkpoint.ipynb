{
 "cells": [
  {
   "cell_type": "markdown",
   "metadata": {
    "colab_type": "text",
    "id": "view-in-github"
   },
   "source": [
    "<a href=\"https://colab.research.google.com/github/rocio2125/ONLINE_DS_THEBRIDGE_rocioortiz/blob/main/Parte_4_13_Practica_Obligatoria_Python_Basics_I.ipynb\" target=\"_parent\"><img src=\"https://colab.research.google.com/assets/colab-badge.svg\" alt=\"Open In Colab\"/></a>"
   ]
  },
  {
   "cell_type": "markdown",
   "metadata": {
    "id": "BNCAebJANPxq"
   },
   "source": [
    "![TheBridge_logo_RGB_color.jpg](attachment:TheBridge_logo_RGB_color.jpg)"
   ]
  },
  {
   "cell_type": "markdown",
   "metadata": {
    "id": "A9eDZvZaNPxs"
   },
   "source": [
    "![imagen](./img/ejercicios.png)"
   ]
  },
  {
   "cell_type": "markdown",
   "metadata": {
    "id": "59zPhBxXNPxs"
   },
   "source": [
    "## PRACTICA OBLIGATORIA: PYTHON"
   ]
  },
  {
   "cell_type": "markdown",
   "metadata": {
    "id": "mv2kb1GMNPxs"
   },
   "source": [
    "* La práctica obligatoria de esta unidad consiste en dos ejercicios de programación libre a completar.   \n",
    "* Recuerda que debes subirla a tu repositorio personal antes de la sesión en vivo para que puntúe adecuadamente.  \n",
    "* Recuerda también que no es necesario que esté perfecta, sólo es necesario que se vea el esfuerzo.\n",
    "* Esta práctica se resolverá en la sesión en vivo correspondiente y la solución se publicará en el repo del curso."
   ]
  },
  {
   "cell_type": "markdown",
   "metadata": {
    "id": "Kl9JzST2NPxt"
   },
   "source": [
    "![ejercicio.png](./img/ejercicio.png)\n",
    "## PARTE I\n",
    "\n",
    "En este ejercicio debes simular un chatbot al que le haremos pedidos de pizzas.\n",
    "\n",
    "1. El chatbot tiene que saludar con un: \"Buenas tardes, bienvenido al servicio de pedido online, el precio de nuestra pizzas es de 8,95 para la familiar o de 9,90 para la mediana ¿Cuántas pizzas  familiares desea?\"\n",
    "2. El ususario tiene que introducir un número de pizzas en una variable llamada 'pizz_familiar'\n",
    "3. El chatbot debe responder: \"Estupendo, ¿cuántas pizzas medianas desea?\" y guardar el número de pizzas medianas en otra variable 'pizz_mediana'\n",
    "4. Además debe responder del chatbot: \"Estupendo, se están preparando 'pizz' pizzas familiares y 'pizz_mediana' pizzas medianas. Digame su dirección\"\n",
    "5. El ususario tiene que introducir una direccion en formato String en otra variable llamada 'direcc'\n",
    "6. El programa debe calcular el monto total\n",
    "7. Respuesta final del chatbot: \"Le mandaremos las '(número total de pizzas)' pizzas a la dirección 'direcc'. Serán <precio total a pagar en euros>. Muchas gracias por su pedido.\"\n",
    "         \n"
   ]
  },
  {
   "cell_type": "code",
   "execution_count": 24,
   "metadata": {
    "id": "qkKibyt-NPxt"
   },
   "outputs": [
    {
     "name": "stdin",
     "output_type": "stream",
     "text": [
      "Buenas tardes, bienvenido al servicio de pedido online, el precio de nuestra pizzas es de 8,95 para la familiar ode 9,90 para la mediana\n",
      " ¿Cuántas pizzas  familiares desea? 2\n",
      "Estupendo, ¿cuántas pizzas medianas desea? 3\n"
     ]
    },
    {
     "name": "stdout",
     "output_type": "stream",
     "text": [
      "Estupendo, se están preparando 2 pizzas familiares y 3 pizzas medianas. Digame su dirección\n"
     ]
    },
    {
     "name": "stdin",
     "output_type": "stream",
     "text": [
      " Calle del Sauce boxeador\n"
     ]
    },
    {
     "name": "stdout",
     "output_type": "stream",
     "text": [
      "Le mandaremos las 5 pizzas a la dirección Calle del Sauce boxeador . Serán 46.65 a pagar en euros. Muchas gracias por su pedido.\n"
     ]
    }
   ],
   "source": [
    "pizz_familiar = int(input(\"Buenas tardes, bienvenido al servicio de pedido online, el precio de nuestra pizzas es de 8,95 para la familiar o\\\n",
    "de 9,90 para la mediana\\n ¿Cuántas pizzas  familiares desea?\"))\n",
    "pizz_mediana = int(input(\"Estupendo, ¿cuántas pizzas medianas desea?\"))\n",
    "print(\"Estupendo, se están preparando\",pizz_familiar,\"pizzas familiares y\",pizz_mediana,\"pizzas medianas. Digame su dirección\")\n",
    "direccion = input()\n",
    "total = round(8.95 * pizz_mediana + 9.90 * pizz_familiar,2) #redondeo porque me da un resultado con muchos decimales y no sé porqué\n",
    "print(\"Le mandaremos las\",pizz_mediana + pizz_familiar,\"pizzas a la dirección\",direccion,\". Serán\",total, \"a pagar en euros. Muchas gracias por su pedido.\")\n"
   ]
  },
  {
   "cell_type": "markdown",
   "metadata": {
    "id": "f0oqoGDGNPxt"
   },
   "source": [
    "![ejercicio.png](./img/ejercicio.png)\n",
    "## Parte II\n",
    "\n",
    "Crea un programa que realice las siguientes acciones:\n",
    "\n",
    "1. Solicite al usuario que introduzca 3 números enteros separados por comas (por ejemplo: 1,2,3).\n",
    "2. Convierta esa entrada en una lista de números enteros.\n",
    "3. Utilizando funciones built-in, determine el número máximo, el número mínimo y la suma total de los números introducidos.\n",
    "4. Determine la verdad o falsedad de la siguiente afirmación: \"El número máximo menos el número mínimo es igual a la suma total dividida por 5\".\n",
    "5. Muestre los resultados utilizando print."
   ]
  },
  {
   "cell_type": "code",
   "execution_count": 25,
   "metadata": {
    "id": "rAlpWiQ9NPxt"
   },
   "outputs": [
    {
     "name": "stdin",
     "output_type": "stream",
     "text": [
      "Por favor instroduzca tres números enteros separados por comas (por ejemplo: 1,2,3) 2,4,4\n"
     ]
    },
    {
     "name": "stdout",
     "output_type": "stream",
     "text": [
      "La lista es: [2, 4, 4]\n",
      "El número máximo es 4\n",
      "El número mínimo es 2\n",
      "La suma de los números es 10\n",
      "¿Es correcta la frase: \"El número máximo menos el número mínimo es igual a la suma total dividida por 5\"?: True\n"
     ]
    }
   ],
   "source": [
    "numeros = input(\"Por favor instroduzca tres números enteros separados por comas (por ejemplo: 1,2,3)\")\n",
    "lista = numeros.split(\",\")\n",
    "lista_numeros = []\n",
    "for n in lista:\n",
    "        numero = int(n)\n",
    "        lista_numeros.append(numero)\n",
    "print(\"La lista es:\",lista_numeros)\n",
    "print(\"El número máximo es\",max(lista_numeros))\n",
    "print(\"El número mínimo es\",min(lista_numeros))\n",
    "print(\"La suma de los números es\",sum(lista_numeros))\n",
    "print('¿Es correcta la frase: \"El número máximo menos el número mínimo es igual a la suma total dividida por 5\"?:',max(lista_numeros)-min(lista_numeros)==sum(lista_numeros)/5)\n",
    "\n",
    "#Comprobado que se cumple para 2,4,4\n"
   ]
  },
  {
   "cell_type": "code",
   "execution_count": null,
   "metadata": {},
   "outputs": [],
   "source": []
  }
 ],
 "metadata": {
  "colab": {
   "include_colab_link": true,
   "provenance": []
  },
  "kernelspec": {
   "display_name": "Python 3 (ipykernel)",
   "language": "python",
   "name": "python3"
  },
  "language_info": {
   "codemirror_mode": {
    "name": "ipython",
    "version": 3
   },
   "file_extension": ".py",
   "mimetype": "text/x-python",
   "name": "python",
   "nbconvert_exporter": "python",
   "pygments_lexer": "ipython3",
   "version": "3.10.11"
  }
 },
 "nbformat": 4,
 "nbformat_minor": 4
}
