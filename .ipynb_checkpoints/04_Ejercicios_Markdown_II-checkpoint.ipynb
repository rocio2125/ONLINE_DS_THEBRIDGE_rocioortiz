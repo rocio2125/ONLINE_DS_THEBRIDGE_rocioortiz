{
 "cells": [
  {
   "cell_type": "markdown",
   "id": "c49ba49d",
   "metadata": {
    "id": "c49ba49d"
   },
   "source": [
    "<img src=\"./img/TheBridge_logo_RGB_color.jpg\" width = 500>"
   ]
  },
  {
   "cell_type": "markdown",
   "id": "22ff8a1a",
   "metadata": {
    "id": "22ff8a1a"
   },
   "source": [
    "# EJERCICIOS MARKDOWN (II)"
   ]
  },
  {
   "cell_type": "markdown",
   "id": "d626df26",
   "metadata": {
    "id": "d626df26"
   },
   "source": [
    "Aquí tienes cinco sencillos ejercicios para practicar lo aprendido en la segundasesión de Markdown. Como en el anterior, utiliza las celdas que hay debajo de cada enunciado y recuerda convertirlas a Markdown primero ;-)\n",
    "\n",
    "Si algunos ejercicios no los entiendes de primeras, dales una vuelta, busca pistas, busca en Internet... pero todavía no le preguntes a ChatGPT... Recuerda con dudas teóricas corre a preguntar, con los ejercicios exprimete antes de preguntar."
   ]
  },
  {
   "cell_type": "markdown",
   "id": "b2efd92f",
   "metadata": {
    "id": "b2efd92f"
   },
   "source": [
    "### Ejercicio 6: Listas\n",
    "Crea una lista no ordenada con los siguientes elementos:\n",
    "\n",
    "1. Manzanas\n",
    "2. Plátanos\n",
    "3. Uvas"
   ]
  },
  {
   "cell_type": "markdown",
   "id": "nFRwS0cPAR5b",
   "metadata": {
    "id": "nFRwS0cPAR5b"
   },
   "source": [
    "* Manzanas\n",
    "+ Plátanos\n",
    "- Uvas"
   ]
  },
  {
   "cell_type": "markdown",
   "id": "f3068c27-a3ca-444b-85d4-5d35bfdcc244",
   "metadata": {},
   "source": [
    "+ Manzanas\n",
    "+ Plátanos\n",
    "+ Uvas"
   ]
  },
  {
   "cell_type": "markdown",
   "id": "c8c2ff80",
   "metadata": {
    "id": "c8c2ff80"
   },
   "source": [
    "Crea ahora una lista ordenada de 1 a 3 y que además lo esté alfabéticamente con estos elementos:\n",
    "\n",
    "    * Arbol binario\n",
    "    * Random Forest\n",
    "    * Regresión Logística"
   ]
  },
  {
   "cell_type": "markdown",
   "id": "BCfkq7eMBmrt",
   "metadata": {
    "id": "BCfkq7eMBmrt"
   },
   "source": [
    "1. Arbol binario\n",
    "2. Random Forest\n",
    "3. Regresión Logística"
   ]
  },
  {
   "cell_type": "markdown",
   "id": "31b35a05-52d5-43d4-986d-aa6e4fa039aa",
   "metadata": {},
   "source": [
    "1. Arbol binario\n",
    "2. Random Forest\n",
    "3. Regresión Logística"
   ]
  },
  {
   "cell_type": "markdown",
   "id": "2c65c04a",
   "metadata": {
    "id": "2c65c04a"
   },
   "source": [
    "### Ejercicio 7: Listas Anidadas\n",
    "Bajo el título \"Frutas y Verduras\", crea una lista ordenada de frutas, y dentro de esta, anida una lista no ordenada de tres frutas. Luego, crea otra lista ordenada de verduras y anida dentro de ella una lista no ordenada de tres verduras.\n",
    "\n",
    "Las listas anidadas no las hemos visto pero seguro que con esto te haces una idea, como con los subrayados en los ejercicios de la primera parte:\n",
    "1. El elemento con orden\n",
    "* Aquí sin orden\n",
    "2. El siguiente\n",
    "* Pico\n",
    "* Pala\n"
   ]
  },
  {
   "cell_type": "markdown",
   "id": "cPML7ys-EQqR",
   "metadata": {
    "id": "cPML7ys-EQqR"
   },
   "source": [
    "#Frutas y Verduras\n",
    "\n",
    "1. Frutas\n",
    "* plátano  \n",
    "* fresa  \n",
    "* manzana  \n",
    "\n",
    "2. Verduras\n",
    "* lechuga  \n",
    "* zanahoria  \n",
    "* brocoli\n"
   ]
  },
  {
   "cell_type": "markdown",
   "id": "8f110244-32fb-42d3-ac7e-d2a6e57b08e4",
   "metadata": {},
   "source": [
    "# Frutas y Verduras\n",
    "\n",
    "1. Frutas\n",
    "    * plátano  \n",
    "    * fresa  \n",
    "    * manzana\n",
    "\n",
    "\n",
    "2. Verduras\n",
    "    * lechuga  \n",
    "    * zanahoria  \n",
    "    * brocoli"
   ]
  },
  {
   "cell_type": "markdown",
   "id": "e224fbf7",
   "metadata": {
    "id": "e224fbf7"
   },
   "source": [
    "### Ejercicio 8: Enlaces e Imágenes\n",
    "Inserta:\n",
    "\n",
    "1. Un enlace que lleve a \"www.thebridge.com\" con el texto \"Por aquí se cruzan puentes\".\n",
    "2. Una imagen de cualquier URL con el texto alternativo \"Logo\". Recuerda que puedes hacerlo referenciando la imagen a través de su ruta en tu ordenador, o bien incrustandola en el notebook\n"
   ]
  },
  {
   "cell_type": "markdown",
   "id": "FAZ4VchwCel0",
   "metadata": {
    "id": "FAZ4VchwCel0"
   },
   "source": [
    "1. [Por aquí se cruzan puentes](https://thebridge.tech/)\n",
    "2. ![Logo](data:image/svg+xml;base64,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)\n"
   ]
  },
  {
   "attachments": {
    "70ff33c9-6ad4-43e9-b7f7-71ba65f95c79.jpg": {
     "image/jpeg": "[encoded data removed]"
    }
   },
   "cell_type": "markdown",
   "id": "c104d17c-2370-4f41-87a9-d824469c019f",
   "metadata": {},
   "source": [
    "[Por aquí se cruzan puentes](http://www.thebridge.com)  \n",
    "![Logo](attachment:70ff33c9-6ad4-43e9-b7f7-71ba65f95c79.jpg)"
   ]
  },
  {
   "cell_type": "markdown",
   "id": "94e48fe3",
   "metadata": {
    "id": "94e48fe3"
   },
   "source": [
    "### Ejercicio 9: Líneas Horizontales y Bloques de Código\n",
    "Inserta:\n",
    "\n",
    "1. Un bloque de código en Python que imprima \"Hola Mundo\" (pista: print(\"Hola Mundo\")) entre dos líneas horizontales, cada una creada con un método diferente."
   ]
  },
  {
   "cell_type": "markdown",
   "id": "_t9Olq2GLULt",
   "metadata": {
    "id": "_t9Olq2GLULt"
   },
   "source": [
    "***"
   ]
  },
  {
   "cell_type": "code",
   "execution_count": null,
   "id": "Ctk0sM_kChUZ",
   "metadata": {
    "colab": {
     "base_uri": "https://localhost:8080/"
    },
    "executionInfo": {
     "elapsed": 8,
     "status": "ok",
     "timestamp": 1744636278742,
     "user": {
      "displayName": "Aldair MC",
      "userId": "02356791645566482161"
     },
     "user_tz": -120
    },
    "id": "Ctk0sM_kChUZ",
    "outputId": "d1d4f6be-20e8-4e52-c02a-8deeb4bf9156"
   },
   "outputs": [
    {
     "name": "stdout",
     "output_type": "stream",
     "text": [
      "Hola mundo\n"
     ]
    }
   ],
   "source": [
    "print(\"Hola mundo\")"
   ]
  },
  {
   "cell_type": "markdown",
   "id": "NdULOsojbGT4",
   "metadata": {
    "id": "NdULOsojbGT4"
   },
   "source": [
    "---"
   ]
  },
  {
   "cell_type": "markdown",
   "id": "5e62dae0-8c25-4653-a16d-08a0e3776a85",
   "metadata": {},
   "source": [
    "***"
   ]
  },
  {
   "cell_type": "code",
   "execution_count": 4,
   "id": "c686825f-c6e1-40aa-b502-37ecea5f6ba4",
   "metadata": {},
   "outputs": [
    {
     "name": "stdout",
     "output_type": "stream",
     "text": [
      "Hola Mundo\n"
     ]
    }
   ],
   "source": [
    "print(\"Hola Mundo\")"
   ]
  },
  {
   "cell_type": "markdown",
   "id": "22150efa-e99a-4d2d-ab3b-48cf4d28c3dd",
   "metadata": {},
   "source": [
    "---"
   ]
  }
 ],
 "metadata": {
  "colab": {
   "provenance": []
  },
  "kernelspec": {
   "display_name": "Python 3 (ipykernel)",
   "language": "python",
   "name": "python3"
  },
  "language_info": {
   "codemirror_mode": {
    "name": "ipython",
    "version": 3
   },
   "file_extension": ".py",
   "mimetype": "text/x-python",
   "name": "python",
   "nbconvert_exporter": "python",
   "pygments_lexer": "ipython3",
   "version": "3.10.11"
  }
 },
 "nbformat": 4,
 "nbformat_minor": 5
}
