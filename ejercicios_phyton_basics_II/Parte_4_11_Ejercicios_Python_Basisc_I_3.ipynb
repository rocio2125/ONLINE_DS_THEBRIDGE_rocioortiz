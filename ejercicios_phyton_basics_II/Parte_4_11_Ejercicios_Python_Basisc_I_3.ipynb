{
 "cells": [
  {
   "cell_type": "markdown",
   "metadata": {
    "colab_type": "text",
    "id": "view-in-github"
   },
   "source": [
    "<a href=\"https://colab.research.google.com/github/rocio2125/ONLINE_DS_THEBRIDGE_rocioortiz/blob/main/Parte_4_11_Ejercicios_Python_Basisc_I_3.ipynb\" target=\"_parent\"><img src=\"https://colab.research.google.com/assets/colab-badge.svg\" alt=\"Open In Colab\"/></a>"
   ]
  },
  {
   "cell_type": "markdown",
   "metadata": {
    "id": "Ar5cM4fKzbIm"
   },
   "source": [
    "![TheBridge_logo_RGB_color.jpg](attachment:TheBridge_logo_RGB_color.jpg)"
   ]
  },
  {
   "cell_type": "markdown",
   "metadata": {
    "id": "BTA_j0XazbIp"
   },
   "source": [
    "![imagen](./img/ejercicios.png)"
   ]
  },
  {
   "cell_type": "markdown",
   "metadata": {
    "id": "MmHnBTQDzbIp"
   },
   "source": [
    "## EJERCICIOS PYTHON BASICO 3:\n",
    "## Operaciones matemáticas, comparación y booleanas"
   ]
  },
  {
   "cell_type": "markdown",
   "metadata": {
    "id": "Xcly6ynHzbIq"
   },
   "source": [
    "Completa los siguiente ejercicios, la solución completa a los mismos se publicarán en el repo del curso a lo largo del sprint. En algunos ejercicios se muestra la solución final, para que puedas comprobar que lo has hecho bien, pero lo importante es el código que generes. ¡Vaaamos, a ello...!"
   ]
  },
  {
   "cell_type": "markdown",
   "metadata": {
    "id": "2sgdIi6tzbIq"
   },
   "source": [
    "![ejercicio.png](./img/ejercicio.png)\n",
    "\n",
    "\n",
    "## Ejercicio 1\n",
    "Tenemos las siguientes variables:\n",
    "\n",
    "```Python\n",
    "A = 4\n",
    "B = \"Text\"\n",
    "C = 4.1\n",
    "```\n",
    "\n",
    "Comprueba:\n",
    "1. Si A y B son equivalentes\n",
    "2. Si A y C NO son equivalentes\n",
    "3. Si A es mayor que C\n",
    "4. Si C es menor o igual que A\n",
    "5. Si B NO es equivalente a C"
   ]
  },
  {
   "cell_type": "code",
   "execution_count": 4,
   "metadata": {
    "id": "TkKMCD_XzbIq",
    "outputId": "0d98a5bd-5245-49b2-be57-bf633bda5812"
   },
   "outputs": [
    {
     "name": "stdout",
     "output_type": "stream",
     "text": [
      "\n",
      " False \n",
      " True \n",
      " False \n",
      " False \n",
      " True\n"
     ]
    }
   ],
   "source": [
    "A = 4\n",
    "B = \"Hola\"\n",
    "C = 4.1\n",
    "\n",
    "print(\"\\n\", A == B, \"\\n\", A != C, \"\\n\", A > C, \"\\n\", C <= A, \"\\n\", B != C)\n"
   ]
  },
  {
   "cell_type": "markdown",
   "metadata": {
    "id": "6psYQ48SzbIr"
   },
   "source": [
    "![ejercicio.png](./img/ejercicio.png)\n",
    "\n",
    "## Ejercicio 2\n",
    "Crea un programa donde se recojan dos inputs del usuario, y el output del programa sea si esos inputs son iguales o no"
   ]
  },
  {
   "cell_type": "code",
   "execution_count": 7,
   "metadata": {
    "id": "q3tn16qdzbIr"
   },
   "outputs": [
    {
     "name": "stdin",
     "output_type": "stream",
     "text": [
      "¿Cúal es tu color favorito? rojo\n",
      "¿Cúal era tu color favorito cuando eras niña o niño? azul\n"
     ]
    },
    {
     "name": "stdout",
     "output_type": "stream",
     "text": [
      "¿Tu color favorito siempre ha sido el mismo? False\n"
     ]
    }
   ],
   "source": [
    "A = input(\"¿Cúal es tu color favorito?\")\n",
    "B = input(\"¿Cúal era tu color favorito cuando eras niña o niño?\")\n",
    "print(\"¿Tu color favorito siempre ha sido el mismo?\", A == B)"
   ]
  },
  {
   "cell_type": "markdown",
   "metadata": {
    "id": "IOef_sxwzbIs"
   },
   "source": [
    "![ejercicio.png](./img/ejercicio.png)\n",
    "\n",
    "## Ejercicio 3\n",
    "Mismo programa que en 2, pero en esta ocasión tienen que ser tres inputs y dos salidas. Una de las salidas que nos indique si todos son iguales, y la otra si al menos dos inputs sí que lo son"
   ]
  },
  {
   "cell_type": "code",
   "execution_count": 16,
   "metadata": {
    "id": "Tq-ahkIjzbIs",
    "outputId": "557b8335-e34c-4678-d4ae-e122f440716d"
   },
   "outputs": [
    {
     "name": "stdout",
     "output_type": "stream",
     "text": [
      "Escribe tres números\n"
     ]
    },
    {
     "name": "stdin",
     "output_type": "stream",
     "text": [
      "Primer número 1\n",
      "Segundo número 2\n",
      "Tercer número 1\n"
     ]
    },
    {
     "name": "stdout",
     "output_type": "stream",
     "text": [
      "¿Son todos iguales?  False\n",
      "¿Al menos dos son iguales?  True\n"
     ]
    }
   ],
   "source": [
    "print(\"Escribe tres números\")\n",
    "a = input(\"Primer número\")\n",
    "b = input(\"Segundo número\")\n",
    "c = input(\"Tercer número\")\n",
    "print(\"¿Son todos iguales? \", a==b and b==c)\n",
    "print(\"¿Al menos dos son iguales? \", a==b or b==c or a==c)"
   ]
  },
  {
   "cell_type": "markdown",
   "metadata": {
    "id": "8SmNQfMKzbIs"
   },
   "source": [
    "![ejercicio.png](./img/ejercicio.png)\n",
    "\n",
    "## Ejercicio 4\n",
    "Razona sin ejecutar código el output que obtendremos de las siguientes sentencias\n",
    "1. True and True and False\n",
    "2. not ((True or False) and (True or False))\n",
    "3. (False or False or False or True) and False\n",
    "4. not False and True and not True"
   ]
  },
  {
   "cell_type": "markdown",
   "metadata": {
    "id": "O690aMF6zbIs"
   },
   "source": [
    "1.- False  \n",
    "2.- False  \n",
    "3.- False  \n",
    "4.- False  \n"
   ]
  }
 ],
 "metadata": {
  "colab": {
   "include_colab_link": true,
   "provenance": []
  },
  "kernelspec": {
   "display_name": "Python 3 (ipykernel)",
   "language": "python",
   "name": "python3"
  },
  "language_info": {
   "codemirror_mode": {
    "name": "ipython",
    "version": 3
   },
   "file_extension": ".py",
   "mimetype": "text/x-python",
   "name": "python",
   "nbconvert_exporter": "python",
   "pygments_lexer": "ipython3",
   "version": "3.10.11"
  }
 },
 "nbformat": 4,
 "nbformat_minor": 4
}
